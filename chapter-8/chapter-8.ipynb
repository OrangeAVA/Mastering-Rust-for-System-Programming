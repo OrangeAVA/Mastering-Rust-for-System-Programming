{
 "cells": [
  {
   "cell_type": "markdown",
   "id": "d3813112-3418-4320-a112-0421c231d6c6",
   "metadata": {},
   "source": [
    "# Google Colab Rust Setup\n",
    "\n",
    "The following cell is used to set up and spin up a Jupyter Notebook environment with a Rust kernel using Nix and IPC Proxy. "
   ]
  },
  {
   "cell_type": "code",
   "execution_count": null,
   "id": "3fc64b45-9ce0-4b35-9cb3-7a976eebb88a",
   "metadata": {},
   "outputs": [],
   "source": [
    "!wget -qO- https://gist.github.com/wiseaidev/2af6bef753d48565d11bcd478728c979/archive/3f6df40db09f3517ade41997b541b81f0976c12e.tar.gz | tar xvz --strip-components=1\n",
    "!bash setup_evcxr_kernel.sh"
   ]
  },
  {
   "cell_type": "markdown",
   "id": "60c8d72c-b011-4360-b368-d540b8d7361a",
   "metadata": {},
   "source": [
    "## Command Line Programs"
   ]
  },
  {
   "cell_type": "markdown",
   "id": "38339871-7f3d-49d8-9b4f-e77f9e2a88da",
   "metadata": {},
   "source": [
    "### Getting Started with clap"
   ]
  },
  {
   "cell_type": "code",
   "execution_count": 6,
   "id": "77c46244-70d5-4ddc-811f-d9872521ca03",
   "metadata": {},
   "outputs": [],
   "source": [
    "use std::process::{Command, Output, Stdio};\n",
    "\n",
    "// A helper function to execute a shell command from a Rust script\n",
    "fn execute_command(command: &str) -> Result<(), std::io::Error> {\n",
    "    let status = Command::new(\"bash\")\n",
    "        .arg(\"-c\")\n",
    "        .arg(command)\n",
    "        .stderr(Stdio::inherit())\n",
    "        .status()?;\n",
    "\n",
    "    if status.success() {\n",
    "        Ok(())\n",
    "    } else {\n",
    "        Err(std::io::Error::from_raw_os_error(status.code().unwrap_or(1)))\n",
    "    }\n",
    "}"
   ]
  },
  {
   "cell_type": "code",
   "execution_count": 2,
   "id": "c03bfa03-ee78-4267-8d9b-582b98865f88",
   "metadata": {},
   "outputs": [],
   "source": [
    ":dep clap = {version = \"4.4.11\", features = [\"derive\"]}"
   ]
  },
  {
   "cell_type": "code",
   "execution_count": 7,
   "id": "d5ced5d8-31da-4c1f-8c2c-59898b0ac78e",
   "metadata": {},
   "outputs": [],
   "source": [
    "use clap::Parser;\n",
    "\n",
    "#[derive(Parser, Debug)]\n",
    "#[command(\n",
    "    author = \"Mahmoud Harmouch\",\n",
    "    version = \"1.0\",\n",
    "    about = \"A command-line find and replace utility\",\n",
    "    name = \"find-replace\"\n",
    ")]\n",
    "struct Args {\n",
    "    /// Sets the input file to process\n",
    "    #[arg(short = 'i', long = \"input\")]\n",
    "    input: String,\n",
    "}\n",
    "\n",
    "fn main() {\n",
    "    // Access and use the `input` argument here\n",
    "    let args = Args::parse();\n",
    "\n",
    "    println!(\"Parsed Input file name: {}!\", args.input);\n",
    "}"
   ]
  },
  {
   "cell_type": "code",
   "execution_count": 8,
   "id": "d6fed0c8-16f3-4591-a4fd-cee5da2f19f5",
   "metadata": {},
   "outputs": [
    {
     "name": "stderr",
     "output_type": "stream",
     "text": [
      "    Finished dev [unoptimized + debuginfo] target(s) in 0.02s\n",
      "     Running `target/debug/find-replace --input file.txt`\n"
     ]
    },
    {
     "name": "stdout",
     "output_type": "stream",
     "text": [
      "Parsed Input file name: file.txt!\n"
     ]
    },
    {
     "data": {
      "text/plain": [
       "()"
      ]
     },
     "execution_count": 8,
     "metadata": {},
     "output_type": "execute_result"
    }
   ],
   "source": [
    "let command = \"cd 1-find-replace && cargo run -- --input file.txt\";\n",
    "\n",
    "if let Err(err) = execute_command(command) {\n",
    "    eprintln!(\"Error executing command: {}\", err);\n",
    "}"
   ]
  },
  {
   "cell_type": "markdown",
   "id": "1076c94d-372d-48e5-ad61-2cde2587f1ee",
   "metadata": {},
   "source": [
    "### Handling Multiple Arguments"
   ]
  },
  {
   "cell_type": "code",
   "execution_count": 9,
   "id": "21af2e95-fe3e-4c88-989d-4ba92ac5b22e",
   "metadata": {},
   "outputs": [],
   "source": [
    "use clap::Parser;\n",
    "\n",
    "#[derive(Parser, Debug)]\n",
    "#[command(\n",
    "    author = \"Mahmoud Harmouch\",\n",
    "    version = \"1.0\",\n",
    "    about = \"A command-line find and replace utility\",\n",
    "    name = \"Find and Replace\"\n",
    ")]\n",
    "struct Args {\n",
    "    /// Sets the input file to process\n",
    "    #[arg(short = 'i', long = \"input\")]\n",
    "    input: String,\n",
    "    /// Sets the pattern to find\n",
    "    #[arg(short = 'f', long = \"find\")]\n",
    "    find: String,\n",
    "    /// Sets the replacement text\n",
    "    #[arg(short = 'r', long = \"replace\")]\n",
    "    replace: String,\n",
    "}\n",
    "\n",
    "fn main() {\n",
    "    // Access and use the `input`, `find`, and `replace` arguments here\n",
    "    let args = Args::parse();\n",
    "}"
   ]
  },
  {
   "cell_type": "code",
   "execution_count": 13,
   "id": "9ded0691-7676-4c4e-b5b8-72520de14d7d",
   "metadata": {},
   "outputs": [
    {
     "name": "stderr",
     "output_type": "stream",
     "text": [
      "    Finished dev [unoptimized + debuginfo] target(s) in 0.02s\n",
      "     Running `target/debug/multiple-args -h`\n"
     ]
    },
    {
     "name": "stdout",
     "output_type": "stream",
     "text": [
      "A command-line find and replace utility\n",
      "\n",
      "Usage: multiple-args --input <INPUT> --find <FIND> --replace <REPLACE>\n",
      "\n",
      "Options:\n",
      "  -i, --input <INPUT>      Sets the input file to process\n",
      "  -f, --find <FIND>        Sets the pattern to find\n",
      "  -r, --replace <REPLACE>  Sets the replacement text\n",
      "  -h, --help               Print help\n",
      "  -V, --version            Print version\n"
     ]
    },
    {
     "data": {
      "text/plain": [
       "()"
      ]
     },
     "execution_count": 13,
     "metadata": {},
     "output_type": "execute_result"
    }
   ],
   "source": [
    "let command = \"cd 2-multiple-args && cargo run -- -h\";\n",
    "\n",
    "if let Err(err) = execute_command(command) {\n",
    "    eprintln!(\"Error executing command: {}\", err);\n",
    "}"
   ]
  },
  {
   "cell_type": "markdown",
   "id": "523c632c-e041-4a81-b105-2b924b7c4b62",
   "metadata": {},
   "source": [
    "### Handling Flag Arguments"
   ]
  },
  {
   "cell_type": "code",
   "execution_count": 14,
   "id": "6a938a11-c989-4556-ace8-a13a6cbcdb42",
   "metadata": {},
   "outputs": [],
   "source": [
    "use clap::Parser;\n",
    "\n",
    "#[derive(Parser, Debug)]\n",
    "#[command(\n",
    "    author = \"Mahmoud Harmouch\",\n",
    "    version = \"1.0\",\n",
    "    about = \"A command-line find and replace utility\",\n",
    "    name = \"Find and Replace\"\n",
    ")]\n",
    "struct Args {\n",
    "    /// Sets the input file to process\n",
    "    #[arg(short = 'i', long = \"input\")]\n",
    "    input: String,\n",
    "    /// Sets the pattern to find\n",
    "    #[arg(short = 'f', long = \"find\")]\n",
    "    find: String,\n",
    "    /// Sets the replacement text\n",
    "    #[arg(short = 'r', long = \"replace\")]\n",
    "    replace: String,\n",
    "    /// Perform a case-insensitive search and replace\n",
    "    #[arg(short = 'c', long = \"ignore-case\")]\n",
    "    ignore_case: bool,\n",
    "}\n",
    "\n",
    "fn main() {\n",
    "    // Access and use the `input`, `find`, `replace`, and `ignore-case` arguments here\n",
    "    let args = Args::parse();\n",
    "}"
   ]
  },
  {
   "cell_type": "code",
   "execution_count": 16,
   "id": "504caa38-550a-4141-a0fa-d5ecd8bf091d",
   "metadata": {},
   "outputs": [
    {
     "name": "stderr",
     "output_type": "stream",
     "text": [
      "    Finished dev [unoptimized + debuginfo] target(s) in 0.02s\n",
      "     Running `target/debug/flag-args -h`\n"
     ]
    },
    {
     "name": "stdout",
     "output_type": "stream",
     "text": [
      "A command-line find and replace utility\n",
      "\n",
      "Usage: flag-args [OPTIONS] --input <INPUT> --find <FIND> --replace <REPLACE>\n",
      "\n",
      "Options:\n",
      "  -i, --input <INPUT>      Sets the input file to process\n",
      "  -f, --find <FIND>        Sets the pattern to find\n",
      "  -r, --replace <REPLACE>  Sets the replacement text\n",
      "  -c, --ignore-case        Perform a case-insensitive search and replace\n",
      "  -h, --help               Print help\n",
      "  -V, --version            Print version\n"
     ]
    },
    {
     "data": {
      "text/plain": [
       "()"
      ]
     },
     "execution_count": 16,
     "metadata": {},
     "output_type": "execute_result"
    }
   ],
   "source": [
    "let command = \"cd 3-flag-args && cargo run -- -h\";\n",
    "\n",
    "if let Err(err) = execute_command(command) {\n",
    "    eprintln!(\"Error executing command: {}\", err);\n",
    "}"
   ]
  },
  {
   "cell_type": "markdown",
   "id": "1ee276a9-c379-429a-a74d-4d836c693fc5",
   "metadata": {},
   "source": [
    "### Advanced Argument Handling"
   ]
  },
  {
   "cell_type": "code",
   "execution_count": 17,
   "id": "f1d581b0-8e46-4140-b6e7-474e7cb0cb73",
   "metadata": {},
   "outputs": [],
   "source": [
    "use clap::Args;\n",
    "use clap::{Parser, Subcommand};\n",
    "\n",
    "#[derive(Parser, Debug)]\n",
    "#[command(\n",
    "    author = \"Mahmoud Harmouch\",\n",
    "    version = \"1.0\",\n",
    "    about = \"A command-line text manipulation utility\",\n",
    "    name = \"Text Manipulation Utility\"\n",
    ")]\n",
    "pub struct Cli {\n",
    "    /// Turn debugging information on.\n",
    "    #[arg(short, long, action = clap::ArgAction::Count)]\n",
    "    debug: u8,\n",
    "    /// Find and Replace commands.\n",
    "    #[command(subcommand)]\n",
    "    pub command: Option<Commands>\n",
    "}\n",
    "\n",
    "#[derive(Subcommand, Debug)]\n",
    "pub enum Commands {\n",
    "    /// Subcommand for handling find operations.\n",
    "    Find(FindCommands),\n",
    "    /// Subcommand for handling replace operations.\n",
    "    Replace(ReplaceCommands),\n",
    "}\n",
    "\n",
    "/// Represents find-related commands.\n",
    "#[derive(Debug, Args)]\n",
    "pub struct FindCommands {\n",
    "    /// Sets the input file to process\n",
    "    #[clap(short = 'i', long = \"input\")]\n",
    "    pub input: Option<String>,\n",
    "    /// Sets the pattern to find.\n",
    "    #[clap(short = 'p', long = \"pattern\")]\n",
    "    pub pattern: Option<String>,\n",
    "}\n",
    "\n",
    "/// Represents repalce-related commands.\n",
    "#[derive(Debug, Args)]\n",
    "pub struct ReplaceCommands {\n",
    "    /// Sets the input file to process\n",
    "    #[clap(short = 'i', long = \"input\")]\n",
    "    pub input: Option<String>,\n",
    "    /// Sets the pattern to find.\n",
    "    #[clap(short = 'p', long = \"pattern\")]\n",
    "    pub pattern: Option<String>,\n",
    "    /// Sets the replacement text.\n",
    "    #[clap(short = 'r', long = \"replace\")]\n",
    "    pub replace: Option<String>,\n",
    "}\n",
    "\n",
    "fn main() {\n",
    "    let args = Cli::parse();\n",
    "    match args.command {\n",
    "        Some(Commands::Find(command)) => {\n",
    "            match command.input {\n",
    "                Some(ref input) => {\n",
    "                    // cargo run -- find --input file_name\n",
    "                    println!(\"{:?}\", input);\n",
    "                }\n",
    "                None => {\n",
    "                    println!(\"Please provide a file name.\");\n",
    "                }\n",
    "            };\n",
    "            match command.pattern {\n",
    "                Some(ref pattern) => {\n",
    "                    // cargo run -- find --pattern custom_pattern\n",
    "                    println!(\"{:?}\", pattern);\n",
    "                }\n",
    "                None => {\n",
    "                    println!(\"Please provide a pattern.\");\n",
    "                }\n",
    "            };\n",
    "        }\n",
    "        Some(Commands::Replace(command)) => {\n",
    "            match command.input {\n",
    "                Some(ref input) => {\n",
    "                    // cargo run -- replace --input file_name\n",
    "                    println!(\"{:?}\", input);\n",
    "                }\n",
    "                None => {\n",
    "                    println!(\"Please provide a file name.\");\n",
    "                }\n",
    "            };\n",
    "            match command.pattern {\n",
    "                Some(ref pattern) => {\n",
    "                    // cargo run -- replace --pattern custom_pattern\n",
    "                    println!(\"{:?}\", pattern);\n",
    "                }\n",
    "                None => {\n",
    "                    println!(\"Please provide a pattern.\");\n",
    "                }\n",
    "            };\n",
    "            match command.replace {\n",
    "                Some(ref replace) => {\n",
    "                    // cargo run -- replace --replace string\n",
    "                    println!(\"{:?}\", replace);\n",
    "                }\n",
    "                None => {\n",
    "                    println!(\"Please provide a pattern.\");\n",
    "                }\n",
    "            };\n",
    "        }\n",
    "        None => println!(\n",
    "            \"Unknown command. Use '--help' for usage instructions.\"\n",
    "        )\n",
    "    };\n",
    "}"
   ]
  },
  {
   "cell_type": "code",
   "execution_count": 19,
   "id": "b36b10bc-36ab-42b9-b123-bf4f9c790d28",
   "metadata": {},
   "outputs": [
    {
     "name": "stderr",
     "output_type": "stream",
     "text": [
      "    Finished dev [unoptimized + debuginfo] target(s) in 0.02s\n",
      "     Running `target/debug/advanced-args -h`\n"
     ]
    },
    {
     "name": "stdout",
     "output_type": "stream",
     "text": [
      "A command-line text manipulation utility\n",
      "\n",
      "Usage: advanced-args [OPTIONS] [COMMAND]\n",
      "\n",
      "Commands:\n",
      "  find     Subcommand for handling find operations\n",
      "  replace  Subcommand for handling replace operations\n",
      "  help     Print this message or the help of the given subcommand(s)\n",
      "\n",
      "Options:\n",
      "  -d, --debug...  Turn debugging information on\n",
      "  -h, --help      Print help\n",
      "  -V, --version   Print version\n"
     ]
    },
    {
     "data": {
      "text/plain": [
       "()"
      ]
     },
     "execution_count": 19,
     "metadata": {},
     "output_type": "execute_result"
    }
   ],
   "source": [
    "let command = \"cd 4-advanced-args && cargo run -- -h\";\n",
    "\n",
    "if let Err(err) = execute_command(command) {\n",
    "    eprintln!(\"Error executing command: {}\", err);\n",
    "}"
   ]
  },
  {
   "cell_type": "code",
   "execution_count": 20,
   "id": "bb259752-ef92-4c02-be81-580a1c250b57",
   "metadata": {},
   "outputs": [
    {
     "name": "stderr",
     "output_type": "stream",
     "text": [
      "    Finished dev [unoptimized + debuginfo] target(s) in 0.02s\n",
      "     Running `target/debug/advanced-args find -h`\n"
     ]
    },
    {
     "name": "stdout",
     "output_type": "stream",
     "text": [
      "Subcommand for handling find operations\n",
      "\n",
      "Usage: advanced-args find [OPTIONS]\n",
      "\n",
      "Options:\n",
      "  -i, --input <INPUT>      Sets the input file to process\n",
      "  -p, --pattern <PATTERN>  Sets the pattern to find\n",
      "  -h, --help               Print help\n"
     ]
    },
    {
     "data": {
      "text/plain": [
       "()"
      ]
     },
     "execution_count": 20,
     "metadata": {},
     "output_type": "execute_result"
    }
   ],
   "source": [
    "let command = \"cd 4-advanced-args && cargo run -- find -h\";\n",
    "\n",
    "if let Err(err) = execute_command(command) {\n",
    "    eprintln!(\"Error executing command: {}\", err);\n",
    "}"
   ]
  },
  {
   "cell_type": "code",
   "execution_count": 21,
   "id": "02d534d1-574f-4225-b180-2a8f2c64f0cb",
   "metadata": {},
   "outputs": [
    {
     "name": "stderr",
     "output_type": "stream",
     "text": [
      "    Finished dev [unoptimized + debuginfo] target(s) in 0.02s\n",
      "     Running `target/debug/advanced-args replace -h`\n"
     ]
    },
    {
     "name": "stdout",
     "output_type": "stream",
     "text": [
      "Subcommand for handling replace operations\n",
      "\n",
      "Usage: advanced-args replace [OPTIONS]\n",
      "\n",
      "Options:\n",
      "  -i, --input <INPUT>      Sets the input file to process\n",
      "  -p, --pattern <PATTERN>  Sets the pattern to find\n",
      "  -r, --replace <REPLACE>  Sets the replacement text\n",
      "  -h, --help               Print help\n"
     ]
    },
    {
     "data": {
      "text/plain": [
       "()"
      ]
     },
     "execution_count": 21,
     "metadata": {},
     "output_type": "execute_result"
    }
   ],
   "source": [
    "let command = \"cd 4-advanced-args && cargo run -- replace -h\";\n",
    "\n",
    "if let Err(err) = execute_command(command) {\n",
    "    eprintln!(\"Error executing command: {}\", err);\n",
    "}"
   ]
  },
  {
   "cell_type": "markdown",
   "id": "6c249b08-e7b8-4827-9952-c9b9a1048f66",
   "metadata": {},
   "source": [
    "### Implementing Text Search and Replace Logic"
   ]
  },
  {
   "cell_type": "markdown",
   "id": "77faae8d-eb7c-459a-a123-287c7aad3059",
   "metadata": {},
   "source": [
    "#### Reading the Input File"
   ]
  },
  {
   "cell_type": "code",
   "execution_count": 23,
   "id": "f2603982-adb7-4a18-90a0-85c59c3abc3f",
   "metadata": {},
   "outputs": [],
   "source": [
    "use clap::Args;\n",
    "use clap::{Parser, Subcommand};\n",
    "use std::fs::File;\n",
    "use std::io::{self, Read};\n",
    "\n",
    "#[derive(Parser, Debug)]\n",
    "#[command(\n",
    "    author = \"Mahmoud Harmouch\",\n",
    "    version = \"1.0\",\n",
    "    about = \"A command-line text manipulation utility\",\n",
    "    name = \"Text Manipulation Utility\"\n",
    ")]\n",
    "pub struct Cli {\n",
    "    /// Turn debugging information on.\n",
    "    #[arg(short, long, action = clap::ArgAction::Count)]\n",
    "    debug: u8,\n",
    "    /// Find and Replace commands.\n",
    "    #[command(subcommand)]\n",
    "    pub command: Option<Commands>\n",
    "}\n",
    "\n",
    "#[derive(Subcommand, Debug)]\n",
    "pub enum Commands {\n",
    "    /// Subcommand for handling find operations.\n",
    "    Find(FindCommands),\n",
    "    /// Subcommand for handling replace operations.\n",
    "    Replace(ReplaceCommands),\n",
    "}\n",
    "\n",
    "/// Represents find-related commands.\n",
    "#[derive(Debug, Args)]\n",
    "pub struct FindCommands {\n",
    "    /// Sets the input file to process\n",
    "    #[clap(short = 'i', long = \"input\")]\n",
    "    pub input: Option<String>,\n",
    "    /// Sets the pattern to find.\n",
    "    #[clap(short = 'p', long = \"pattern\")]\n",
    "    pub pattern: Option<String>,\n",
    "}\n",
    "\n",
    "/// Represents repalce-related commands.\n",
    "#[derive(Debug, Args)]\n",
    "pub struct ReplaceCommands {\n",
    "    /// Sets the input file to process\n",
    "    #[clap(short = 'i', long = \"input\")]\n",
    "    pub input: Option<String>,\n",
    "    /// Sets the pattern to find.\n",
    "    #[clap(short = 'p', long = \"pattern\")]\n",
    "    pub pattern: Option<String>,\n",
    "    /// Sets the replacement text.\n",
    "    #[clap(short = 'r', long = \"replace\")]\n",
    "    pub replace: Option<String>,\n",
    "}\n",
    "\n",
    "fn read_file_to_string(file_path: &str) -> io::Result<String> {\n",
    "    let mut file = File::open(file_path)?;\n",
    "    let mut contents = String::new();\n",
    "    file.read_to_string(&mut contents)?;\n",
    "\n",
    "    Ok(contents)\n",
    "}\n",
    "\n",
    "fn main() {\n",
    "    let args = Cli::parse();\n",
    "    let input_content;\n",
    "    match args.command {\n",
    "        Some(Commands::Find(command)) => {\n",
    "            match command.input {\n",
    "                Some(ref input) => {\n",
    "                    // cargo run -- find --input file.txt\n",
    "                    input_content = read_file_to_string(input).unwrap();\n",
    "                    println!(\"Input file content: {:?}\", input_content);\n",
    "                }\n",
    "                None => {\n",
    "                    println!(\"Please provide a file name.\");\n",
    "                }\n",
    "            };\n",
    "            match command.pattern {\n",
    "                Some(ref pattern) => {\n",
    "                    // cargo run -- find --pattern custom_pattern\n",
    "                    println!(\"{:?}\", pattern);\n",
    "                }\n",
    "                None => {\n",
    "                    println!(\"Please provide a pattern.\");\n",
    "                }\n",
    "            };\n",
    "        }\n",
    "        Some(Commands::Replace(command)) => {\n",
    "            match command.input {\n",
    "                Some(ref input) => {\n",
    "                    // cargo run -- replace --input file_name\n",
    "                    println!(\"{:?}\", input);\n",
    "                }\n",
    "                None => {\n",
    "                    println!(\"Please provide a file name.\");\n",
    "                }\n",
    "            };\n",
    "            match command.pattern {\n",
    "                Some(ref pattern) => {\n",
    "                    // cargo run -- replace --pattern custom_pattern\n",
    "                    println!(\"{:?}\", pattern);\n",
    "                }\n",
    "                None => {\n",
    "                    println!(\"Please provide a pattern.\");\n",
    "                }\n",
    "            };\n",
    "            match command.replace {\n",
    "                Some(ref replace) => {\n",
    "                    // cargo run -- replace --replace string\n",
    "                    println!(\"{:?}\", replace);\n",
    "                }\n",
    "                None => {\n",
    "                    println!(\"Please provide a pattern.\");\n",
    "                }\n",
    "            };\n",
    "        }\n",
    "        None => println!(\n",
    "            \"Unknown command. Use '--help' for usage instructions.\"\n",
    "        )\n",
    "    };\n",
    "}"
   ]
  },
  {
   "cell_type": "code",
   "execution_count": 27,
   "id": "8193f7d6-18f1-43fa-89ca-c1ee03613974",
   "metadata": {},
   "outputs": [
    {
     "name": "stderr",
     "output_type": "stream",
     "text": [
      "    Finished dev [unoptimized + debuginfo] target(s) in 0.02s\n",
      "     Running `target/debug/reading-files find --input file.txt -p pattern`\n"
     ]
    },
    {
     "name": "stdout",
     "output_type": "stream",
     "text": [
      "Input file content: \"Hello World\\n\"\n",
      "\"pattern\"\n"
     ]
    },
    {
     "data": {
      "text/plain": [
       "()"
      ]
     },
     "execution_count": 27,
     "metadata": {},
     "output_type": "execute_result"
    }
   ],
   "source": [
    "let command = \"cd 5-reading-files && cargo run -- find --input file.txt -p pattern\";\n",
    "\n",
    "if let Err(err) = execute_command(command) {\n",
    "    eprintln!(\"Error executing command: {}\", err);\n",
    "}"
   ]
  },
  {
   "cell_type": "markdown",
   "id": "ba4dbcec-92f0-4fbf-85a3-e74d0d66b424",
   "metadata": {},
   "source": [
    "### Find and Replace Logic"
   ]
  },
  {
   "cell_type": "code",
   "execution_count": 28,
   "id": "8b0ef968-657a-4362-bf8b-b5094306a085",
   "metadata": {},
   "outputs": [],
   "source": [
    "use clap::Args;\n",
    "use clap::{Parser, Subcommand};\n",
    "use std::fs::File;\n",
    "use std::io::{self, Read};\n",
    "\n",
    "#[derive(Parser, Debug)]\n",
    "#[command(\n",
    "    author = \"Mahmoud Harmouch\",\n",
    "    version = \"1.0\",\n",
    "    about = \"A command-line text manipulation utility\",\n",
    "    name = \"Text Manipulation Utility\"\n",
    ")]\n",
    "pub struct Cli {\n",
    "    /// Turn debugging information on.\n",
    "    #[arg(short, long, action = clap::ArgAction::Count)]\n",
    "    debug: u8,\n",
    "    /// Find and Replace commands.\n",
    "    #[command(subcommand)]\n",
    "    pub command: Option<Commands>\n",
    "}\n",
    "\n",
    "#[derive(Subcommand, Debug)]\n",
    "pub enum Commands {\n",
    "    /// Subcommand for handling find operations.\n",
    "    Find(FindCommands),\n",
    "    /// Subcommand for handling replace operations.\n",
    "    Replace(ReplaceCommands),\n",
    "}\n",
    "\n",
    "/// Represents find-related commands.\n",
    "#[derive(Debug, Args)]\n",
    "pub struct FindCommands {\n",
    "    /// Sets the input file to process\n",
    "    #[clap(short = 'i', long = \"input\")]\n",
    "    pub input: Option<String>,\n",
    "    /// Sets the pattern to find.\n",
    "    #[clap(short = 'p', long = \"pattern\")]\n",
    "    pub pattern: Option<String>,\n",
    "}\n",
    "\n",
    "/// Represents repalce-related commands.\n",
    "#[derive(Debug, Args)]\n",
    "pub struct ReplaceCommands {\n",
    "    /// Sets the input file to process\n",
    "    #[clap(short = 'i', long = \"input\")]\n",
    "    pub input: Option<String>,\n",
    "    /// Sets the pattern to find.\n",
    "    #[clap(short = 'p', long = \"pattern\")]\n",
    "    pub pattern: Option<String>,\n",
    "    /// Sets the replacement text.\n",
    "    #[clap(short = 'r', long = \"replace\")]\n",
    "    pub replace: Option<String>,\n",
    "}\n",
    "\n",
    "fn read_file_to_string(file_path: &str) -> io::Result<String> {\n",
    "    let mut file = File::open(file_path)?;\n",
    "    let mut contents = String::new();\n",
    "    file.read_to_string(&mut contents)?;\n",
    "\n",
    "    Ok(contents)\n",
    "}\n",
    "\n",
    "fn find_and_replace(content: &mut String, pattern: &str, replacement: &str) {\n",
    "    *content = content.replace(pattern, replacement);\n",
    "}\n",
    "\n",
    "fn main() {\n",
    "    let args = Cli::parse();\n",
    "    let mut input_content = \"\".to_string();\n",
    "    let mut pattern_to_find = \"\".to_string();\n",
    "    let mut replacement_text = \"\".to_string();\n",
    "\n",
    "    match args.command {\n",
    "        Some(Commands::Find(command)) => {\n",
    "            if let Some(input) = &command.input {\n",
    "                input_content = read_file_to_string(input).unwrap();\n",
    "                println!(\"Input file content: {:?}\", input_content);\n",
    "            } else {\n",
    "                println!(\"Please provide a file name.\");\n",
    "            }\n",
    "            if let Some(pattern) = &command.pattern {\n",
    "                pattern_to_find = pattern.clone();\n",
    "                println!(\"Pattern: {:?}\", pattern);\n",
    "            } else {\n",
    "                println!(\"Please provide a pattern.\");\n",
    "            }\n",
    "        }\n",
    "        Some(Commands::Replace(command)) => {\n",
    "            if let Some(input) = &command.input {\n",
    "                input_content = read_file_to_string(input).unwrap();\n",
    "                println!(\"Input file content: {:?}\", input_content);\n",
    "            } else {\n",
    "                println!(\"Please provide a file name.\");\n",
    "            }\n",
    "            if let Some(pattern) = &command.pattern {\n",
    "                pattern_to_find = pattern.clone();\n",
    "                println!(\"Pattern: {:?}\", pattern_to_find);\n",
    "            } else {\n",
    "                println!(\"Please provide a pattern.\");\n",
    "            }\n",
    "            if let Some(replace) = &command.replace {\n",
    "                replacement_text = replace.clone();\n",
    "                println!(\"Replacement text: {:?}\", replacement_text);\n",
    "            } else {\n",
    "                println!(\"Please provide a replacement text.\");\n",
    "            }\n",
    "        }\n",
    "        None => println!(\"Unknown command. Use '--help' for usage instructions.\")\n",
    "    };\n",
    "\n",
    "    println!(\"Content Before: {:?}\", input_content);\n",
    "    find_and_replace(&mut input_content, &pattern_to_find, &replacement_text);\n",
    "    println!(\"Content After: {:?}\", input_content);\n",
    "}"
   ]
  },
  {
   "cell_type": "code",
   "execution_count": 31,
   "id": "e10388ad-ad77-4040-aafa-419add3443fa",
   "metadata": {},
   "outputs": [
    {
     "name": "stderr",
     "output_type": "stream",
     "text": [
      "    Finished dev [unoptimized + debuginfo] target(s) in 0.02s\n",
      "     Running `target/debug/find-replace-logic replace -i file.txt -p World -r Rust`\n"
     ]
    },
    {
     "name": "stdout",
     "output_type": "stream",
     "text": [
      "Input file content: \"Hello World\\n\"\n",
      "Pattern: \"World\"\n",
      "Replacement text: \"Rust\"\n",
      "Content Before: \"Hello World\\n\"\n",
      "Content After: \"Hello Rust\\n\"\n"
     ]
    },
    {
     "data": {
      "text/plain": [
       "()"
      ]
     },
     "execution_count": 31,
     "metadata": {},
     "output_type": "execute_result"
    }
   ],
   "source": [
    "let command = \"cd 6-find-replace-logic && cargo run -- replace -i file.txt -p World -r Rust\";\n",
    "\n",
    "if let Err(err) = execute_command(command) {\n",
    "    eprintln!(\"Error executing command: {}\", err);\n",
    "}"
   ]
  },
  {
   "cell_type": "markdown",
   "id": "e2bc554b-f984-4947-ab26-99ac6f4d13b0",
   "metadata": {},
   "source": [
    "### Writing the Modified Content"
   ]
  },
  {
   "cell_type": "code",
   "execution_count": 32,
   "id": "fc65b806-eb79-4b59-8597-32952b7858bf",
   "metadata": {},
   "outputs": [],
   "source": [
    "use clap::Args;\n",
    "use clap::{Parser, Subcommand};\n",
    "use std::fs::File;\n",
    "use std::io::{self, Read, Write};\n",
    "\n",
    "#[derive(Parser, Debug)]\n",
    "#[command(\n",
    "    author = \"Mahmoud Harmouch\",\n",
    "    version = \"1.0\",\n",
    "    about = \"A command-line text manipulation utility\",\n",
    "    name = \"Text Manipulation Utility\"\n",
    ")]\n",
    "pub struct Cli {\n",
    "    /// Turn debugging information on.\n",
    "    #[arg(short, long, action = clap::ArgAction::Count)]\n",
    "    debug: u8,\n",
    "    /// Find and Replace commands.\n",
    "    #[command(subcommand)]\n",
    "    pub command: Option<Commands>\n",
    "}\n",
    "\n",
    "#[derive(Subcommand, Debug)]\n",
    "pub enum Commands {\n",
    "    /// Subcommand for handling find operations.\n",
    "    Find(FindCommands),\n",
    "    /// Subcommand for handling replace operations.\n",
    "    Replace(ReplaceCommands),\n",
    "}\n",
    "\n",
    "/// Represents find-related commands.\n",
    "#[derive(Debug, Args)]\n",
    "pub struct FindCommands {\n",
    "    /// Sets the input file to process\n",
    "    #[clap(short = 'i', long = \"input\")]\n",
    "    pub input: Option<String>,\n",
    "    /// Sets the pattern to find.\n",
    "    #[clap(short = 'p', long = \"pattern\")]\n",
    "    pub pattern: Option<String>,\n",
    "}\n",
    "\n",
    "/// Represents repalce-related commands.\n",
    "#[derive(Debug, Args)]\n",
    "pub struct ReplaceCommands {\n",
    "    /// Sets the input file to process\n",
    "    #[clap(short = 'i', long = \"input\")]\n",
    "    pub input: Option<String>,\n",
    "    /// Sets the pattern to find.\n",
    "    #[clap(short = 'p', long = \"pattern\")]\n",
    "    pub pattern: Option<String>,\n",
    "    /// Sets the replacement text.\n",
    "    #[clap(short = 'r', long = \"replace\")]\n",
    "    pub replace: Option<String>,\n",
    "}\n",
    "\n",
    "fn read_file_to_string(file_path: &str) -> io::Result<String> {\n",
    "    let mut file = File::open(file_path)?;\n",
    "    let mut contents = String::new();\n",
    "    file.read_to_string(&mut contents)?;\n",
    "\n",
    "    Ok(contents)\n",
    "}\n",
    "\n",
    "fn find_and_replace(content: &mut String, pattern: &str, replacement: &str) {\n",
    "    *content = content.replace(pattern, replacement);\n",
    "}\n",
    "\n",
    "fn write_string_to_file(file_path: &str, content: &str) -> io::Result<()> {\n",
    "    let mut file = File::create(file_path)?;\n",
    "    file.write_all(content.as_bytes())?;\n",
    "\n",
    "    Ok(())\n",
    "}\n",
    "\n",
    "fn main() -> io::Result<()> {\n",
    "    let args = Cli::parse();\n",
    "    let mut input_content = \"\".to_string();\n",
    "    let mut pattern_to_find = \"\".to_string();\n",
    "    let mut replacement_text = \"\".to_string();\n",
    "    let mut input_file_path = \"\".to_string();\n",
    "\n",
    "    match args.command {\n",
    "        Some(Commands::Find(command)) => {\n",
    "            if let Some(input) = &command.input {\n",
    "                input_content = read_file_to_string(input)?;\n",
    "                println!(\"Input file content: {:?}\", input_content);\n",
    "            } else {\n",
    "                println!(\"Please provide a file name.\");\n",
    "            }\n",
    "            if let Some(pattern) = &command.pattern {\n",
    "                pattern_to_find = pattern.clone();\n",
    "                println!(\"Pattern: {:?}\", pattern);\n",
    "            } else {\n",
    "                println!(\"Please provide a pattern.\");\n",
    "            }\n",
    "        }\n",
    "        Some(Commands::Replace(command)) => {\n",
    "            if let Some(input) = &command.input {\n",
    "                input_file_path = input.to_string();\n",
    "                input_content = read_file_to_string(input)?;\n",
    "                println!(\"Input file content: {:?}\", input_content);\n",
    "            } else {\n",
    "                println!(\"Please provide a file name.\");\n",
    "            }\n",
    "            if let Some(pattern) = &command.pattern {\n",
    "                pattern_to_find = pattern.clone();\n",
    "                println!(\"Pattern: {:?}\", pattern_to_find);\n",
    "            } else {\n",
    "                println!(\"Please provide a pattern.\");\n",
    "            }\n",
    "            if let Some(replace) = &command.replace {\n",
    "                replacement_text = replace.clone();\n",
    "                println!(\"Replacement text: {:?}\", replacement_text);\n",
    "            } else {\n",
    "                println!(\"Please provide a replacement text.\");\n",
    "            }\n",
    "        }\n",
    "        None => println!(\"Unknown command. Use '--help' for usage instructions.\")\n",
    "    };\n",
    "\n",
    "    println!(\"File Content Before: {:?}\", input_content);\n",
    "    find_and_replace(&mut input_content, &pattern_to_find, &replacement_text);\n",
    "\n",
    "    write_string_to_file(&input_file_path, &input_content)?;\n",
    "\n",
    "    input_content = read_file_to_string(&input_file_path)?;\n",
    "    println!(\"File Content After: {:?}\", input_content);\n",
    "    Ok(())\n",
    "}"
   ]
  },
  {
   "cell_type": "code",
   "execution_count": 37,
   "id": "ea7177a5-fe51-4454-8872-9f5b1ce4de09",
   "metadata": {},
   "outputs": [
    {
     "name": "stderr",
     "output_type": "stream",
     "text": [
      "    Finished dev [unoptimized + debuginfo] target(s) in 0.02s\n",
      "     Running `target/debug/writing-to-file replace -i file.txt -p World -r Rust`\n"
     ]
    },
    {
     "name": "stdout",
     "output_type": "stream",
     "text": [
      "Input file content: \"Hello Rust\\n\"\n",
      "Pattern: \"World\"\n",
      "Replacement text: \"Rust\"\n",
      "File Content Before: \"Hello Rust\\n\"\n",
      "File Content After: \"Hello Rust\\n\"\n"
     ]
    },
    {
     "data": {
      "text/plain": [
       "()"
      ]
     },
     "execution_count": 37,
     "metadata": {},
     "output_type": "execute_result"
    }
   ],
   "source": [
    "let command = \"cd 7-writing-to-file && cargo run -- replace -i file.txt -p World -r Rust\";\n",
    "\n",
    "if let Err(err) = execute_command(command) {\n",
    "    eprintln!(\"Error executing command: {}\", err);\n",
    "}"
   ]
  },
  {
   "cell_type": "code",
   "execution_count": 39,
   "id": "1442bb4c-f3bf-4cd0-9546-a6397a95ef72",
   "metadata": {},
   "outputs": [],
   "source": [
    ":dep regex = {version = \"1.10.2\"} "
   ]
  },
  {
   "cell_type": "markdown",
   "id": "48c89816-170c-4217-8524-d4cd209a535e",
   "metadata": {},
   "source": [
    "### Case-Insensitive Search (Optional)"
   ]
  },
  {
   "cell_type": "code",
   "execution_count": 59,
   "id": "a2563ee9-84f8-4b0d-9ebb-92052e46b8c2",
   "metadata": {},
   "outputs": [],
   "source": [
    "use clap::Args;\n",
    "use clap::{Parser, Subcommand};\n",
    "use std::fs::File;\n",
    "use std::io::{self, Read, Write};\n",
    "use regex::Regex;\n",
    "\n",
    "#[derive(Parser, Debug)]\n",
    "#[command(\n",
    "    author = \"Mahmoud Harmouch\",\n",
    "    version = \"1.0\",\n",
    "    about = \"A command-line text manipulation utility\",\n",
    "    name = \"Text Manipulation Utility\"\n",
    ")]\n",
    "pub struct Cli {\n",
    "    /// Turn debugging information on.\n",
    "    #[arg(short, long, action = clap::ArgAction::Count)]\n",
    "    debug: u8,\n",
    "    /// Find and Replace commands.\n",
    "    #[command(subcommand)]\n",
    "    pub command: Option<Commands>\n",
    "}\n",
    "\n",
    "#[derive(Subcommand, Debug)]\n",
    "pub enum Commands {\n",
    "    /// Subcommand for handling find operations.\n",
    "    Find(FindCommands),\n",
    "    /// Subcommand for handling replace operations.\n",
    "    Replace(ReplaceCommands),\n",
    "}\n",
    "\n",
    "/// Represents find-related commands.\n",
    "#[derive(Debug, Args)]\n",
    "pub struct FindCommands {\n",
    "    /// Sets the input file to process\n",
    "    #[clap(short = 'i', long = \"input\")]\n",
    "    pub input: Option<String>,\n",
    "    /// Sets the pattern to find.\n",
    "    #[clap(short = 'p', long = \"pattern\")]\n",
    "    pub pattern: Option<String>,\n",
    "}\n",
    "\n",
    "/// Represents repalce-related commands.\n",
    "#[derive(Debug, Args)]\n",
    "pub struct ReplaceCommands {\n",
    "    /// Sets the input file to process\n",
    "    #[clap(short = 'i', long = \"input\")]\n",
    "    pub input: Option<String>,\n",
    "    /// Sets the pattern to find.\n",
    "    #[clap(short = 'p', long = \"pattern\")]\n",
    "    pub pattern: Option<String>,\n",
    "    /// Sets the replacement text.\n",
    "    #[clap(short = 'r', long = \"replace\")]\n",
    "    pub replace: Option<String>,\n",
    "    /// Perform a case-insensitive search and replace.\n",
    "    #[clap(short = 'c', long = \"ignore-case\")]\n",
    "    pub ignore_case: bool,\n",
    "\n",
    "}\n",
    "\n",
    "fn read_file_to_string(file_path: &str) -> io::Result<String> {\n",
    "    let mut file = File::open(file_path)?;\n",
    "    let mut contents = String::new();\n",
    "    file.read_to_string(&mut contents)?;\n",
    "\n",
    "    Ok(contents)\n",
    "}\n",
    "\n",
    "fn find_and_replace(content: &mut String, pattern: &str, replacement: &str, ignore_case: bool) {\n",
    "    let regex = if ignore_case {\n",
    "        Regex::new(&format!(r\"(?i){}\", pattern)).unwrap()\n",
    "    } else {\n",
    "        Regex::new(pattern).unwrap()\n",
    "    };\n",
    "\n",
    "    *content = regex.replace_all(content, replacement).to_string();\n",
    "}\n",
    "\n",
    "fn write_string_to_file(file_path: &str, content: &str) -> io::Result<()> {\n",
    "    let mut file = File::create(file_path)?;\n",
    "    file.write_all(content.as_bytes())?;\n",
    "\n",
    "    Ok(())\n",
    "}\n",
    "\n",
    "fn main() -> io::Result<()> {\n",
    "    let args = Cli::parse();\n",
    "    let mut input_content = \"\".to_string();\n",
    "    let mut _pattern_to_find = \"\".to_string();\n",
    "    let mut replacement_text = \"\".to_string();\n",
    "    let mut input_file_path = \"\".to_string();\n",
    "    let mut _ignore_case = false;\n",
    "\n",
    "    match args.command {\n",
    "        Some(Commands::Find(command)) => {\n",
    "            if let Some(input) = &command.input {\n",
    "                input_content = read_file_to_string(input)?;\n",
    "                println!(\"Input file content: {:?}\", input_content);\n",
    "            } else {\n",
    "                println!(\"Please provide a file name.\");\n",
    "            }\n",
    "            if let Some(pattern) = &command.pattern {\n",
    "                _pattern_to_find = pattern.clone();\n",
    "                println!(\"Pattern: {:?}\", pattern);\n",
    "            } else {\n",
    "                println!(\"Please provide a pattern.\");\n",
    "            }\n",
    "        }\n",
    "        Some(Commands::Replace(command)) => {\n",
    "            if let Some(input) = &command.input {\n",
    "                input_file_path = input.to_string();\n",
    "                input_content = read_file_to_string(input)?;\n",
    "                println!(\"Input file content: {:?}\", input_content);\n",
    "            } else {\n",
    "                println!(\"Please provide a file name.\");\n",
    "            }\n",
    "            if let Some(pattern) = &command.pattern {\n",
    "                _pattern_to_find = pattern.clone();\n",
    "                println!(\"Pattern: {:?}\", _pattern_to_find);\n",
    "            } else {\n",
    "                println!(\"Please provide a pattern.\");\n",
    "            }\n",
    "            if let Some(replace) = &command.replace {\n",
    "                replacement_text = replace.clone();\n",
    "                println!(\"Replacement text: {:?}\", replacement_text);\n",
    "            } else {\n",
    "                println!(\"Please provide a replacement text.\");\n",
    "            }\n",
    "            _ignore_case = command.ignore_case;\n",
    "            println!(\"Ignore case: {:?}\", _ignore_case);\n",
    "            println!(\"File Content Before: {:?}\", input_content);\n",
    "            find_and_replace(&mut input_content, &_pattern_to_find, &replacement_text, _ignore_case);\n",
    "\n",
    "            write_string_to_file(&input_file_path, &input_content)?;\n",
    "\n",
    "            input_content = read_file_to_string(&input_file_path)?;\n",
    "            println!(\"File Content After: {:?}\", input_content);\n",
    "        }\n",
    "        None => println!(\"Unknown command. Use '--help' for usage instructions.\")\n",
    "    };\n",
    "\n",
    "    Ok(())\n",
    "\n",
    "}"
   ]
  },
  {
   "cell_type": "code",
   "execution_count": 58,
   "id": "6324581b-3dfe-4468-8438-1d2c09578c7b",
   "metadata": {},
   "outputs": [
    {
     "name": "stderr",
     "output_type": "stream",
     "text": [
      "    Finished dev [unoptimized + debuginfo] target(s) in 0.02s\n",
      "     Running `target/debug/case-insensitive-search replace -i file.txt -p world -r Rust -c`\n"
     ]
    },
    {
     "name": "stdout",
     "output_type": "stream",
     "text": [
      "Input file content: \"Hello World\\n\"\n",
      "Pattern: \"world\"\n",
      "Replacement text: \"Rust\"\n",
      "Ignore case: true\n",
      "File Content Before: \"Hello World\\n\"\n",
      "File Content After: \"Hello Rust\\n\"\n"
     ]
    },
    {
     "data": {
      "text/plain": [
       "()"
      ]
     },
     "execution_count": 58,
     "metadata": {},
     "output_type": "execute_result"
    }
   ],
   "source": [
    "let command = \"cd 8-case-insensitive-search && cargo run -- replace -i file.txt -p world -r Rust -c\";\n",
    "\n",
    "if let Err(err) = execute_command(command) {\n",
    "    eprintln!(\"Error executing command: {}\", err);\n",
    "}"
   ]
  },
  {
   "cell_type": "markdown",
   "id": "f0b50546-0c83-41e2-991a-6fcc620bc931",
   "metadata": {},
   "source": [
    "### Multiple Input Files"
   ]
  },
  {
   "cell_type": "code",
   "execution_count": 62,
   "id": "44c76084-a061-4cb2-8a25-caf34a77a7bb",
   "metadata": {},
   "outputs": [],
   "source": [
    "use clap::Args;\n",
    "use clap::{Parser, Subcommand};\n",
    "use std::fs::File;\n",
    "use std::io::{self, Read, Write};\n",
    "use regex::Regex;\n",
    "\n",
    "#[derive(Parser, Debug)]\n",
    "#[command(\n",
    "    author = \"Mahmoud Harmouch\",\n",
    "    version = \"1.0\",\n",
    "    about = \"A command-line text manipulation utility\",\n",
    "    name = \"Text Manipulation Utility\"\n",
    ")]\n",
    "pub struct Cli {\n",
    "    /// Turn debugging information on.\n",
    "    #[arg(short, long, action = clap::ArgAction::Count)]\n",
    "    debug: u8,\n",
    "    /// Find and Replace commands.\n",
    "    #[command(subcommand)]\n",
    "    pub command: Option<Commands>\n",
    "}\n",
    "\n",
    "#[derive(Subcommand, Debug)]\n",
    "pub enum Commands {\n",
    "    /// Subcommand for handling find operations.\n",
    "    Find(FindCommands),\n",
    "    /// Subcommand for handling replace operations.\n",
    "    Replace(ReplaceCommands),\n",
    "}\n",
    "\n",
    "/// Represents find-related commands.\n",
    "#[derive(Debug, Args)]\n",
    "pub struct FindCommands {\n",
    "    /// Sets the input file to process\n",
    "    #[clap(short = 'i', long = \"input\", num_args = 1.., value_delimiter = ' ')]\n",
    "    pub input: Option<Vec<String>>,\n",
    "    /// Sets the pattern to find.\n",
    "    #[clap(short = 'p', long = \"pattern\")]\n",
    "    pub pattern: Option<String>,\n",
    "}\n",
    "\n",
    "/// Represents repalce-related commands.\n",
    "#[derive(Debug, Args)]\n",
    "pub struct ReplaceCommands {\n",
    "    /// Sets the input file to process\n",
    "    #[clap(short = 'i', long = \"input\", num_args = 1.., value_delimiter = ' ')]\n",
    "    pub input: Option<Vec<String>>,\n",
    "    /// Sets the pattern to find.\n",
    "    #[clap(short = 'p', long = \"pattern\")]\n",
    "    pub pattern: Option<String>,\n",
    "    /// Sets the replacement text.\n",
    "    #[clap(short = 'r', long = \"replace\")]\n",
    "    pub replace: Option<String>,\n",
    "    /// Perform a case-insensitive search and replace.\n",
    "    #[clap(short = 'c', long = \"ignore-case\")]\n",
    "    pub ignore_case: bool,\n",
    "\n",
    "}\n",
    "\n",
    "fn read_file_to_string(file_path: &str) -> io::Result<String> {\n",
    "    let mut file = File::open(file_path)?;\n",
    "    let mut contents = String::new();\n",
    "    file.read_to_string(&mut contents)?;\n",
    "\n",
    "    Ok(contents)\n",
    "}\n",
    "\n",
    "fn find_and_replace(content: &mut String, pattern: &str, replacement: &str, ignore_case: bool) {\n",
    "    let regex = if ignore_case {\n",
    "        Regex::new(&format!(r\"(?i){}\", pattern)).unwrap()\n",
    "    } else {\n",
    "        Regex::new(pattern).unwrap()\n",
    "    };\n",
    "\n",
    "    *content = regex.replace_all(content, replacement).to_string();\n",
    "}\n",
    "\n",
    "fn write_string_to_file(file_path: &str, content: &str) -> io::Result<()> {\n",
    "    let mut file = File::create(file_path)?;\n",
    "    file.write_all(content.as_bytes())?;\n",
    "\n",
    "    Ok(())\n",
    "}\n",
    "\n",
    "fn main() -> io::Result<()> {\n",
    "    let args = Cli::parse();\n",
    "    let mut input_files: Vec<String> = vec![\"\".to_string(),];\n",
    "    let mut pattern_to_find = \"\".to_string();\n",
    "    let mut replacement_text = \"\".to_string();\n",
    "    let mut ignore_case = false;\n",
    "\n",
    "    match args.command {\n",
    "        Some(Commands::Find(command)) => {\n",
    "            if let Some(input) = &command.input {\n",
    "                input_files = input.to_vec();\n",
    "            } else {\n",
    "                println!(\"Please provide a file name.\");\n",
    "            }\n",
    "            if let Some(pattern) = &command.pattern {\n",
    "                pattern_to_find = pattern.clone();\n",
    "                println!(\"Pattern: {:?}\", pattern);\n",
    "            } else {\n",
    "                println!(\"Please provide a pattern.\");\n",
    "            }\n",
    "\n",
    "            for input_file_path in input_files {\n",
    "                let mut input_content = read_file_to_string(&input_file_path)?;\n",
    "\n",
    "                find_and_replace(&mut input_content, &pattern_to_find, \"\", ignore_case);\n",
    "\n",
    "                println!(\"Found Content: {:?}\", input_content);\n",
    "            }\n",
    "        }\n",
    "        Some(Commands::Replace(command)) => {\n",
    "            if let Some(input) = &command.input {\n",
    "                input_files = input.to_vec();\n",
    "            } else {\n",
    "                println!(\"Please provide a file name.\");\n",
    "            }\n",
    "            if let Some(pattern) = &command.pattern {\n",
    "                pattern_to_find = pattern.clone();\n",
    "                println!(\"Pattern: {:?}\", pattern_to_find);\n",
    "            } else {\n",
    "                println!(\"Please provide a pattern.\");\n",
    "            }\n",
    "            if let Some(replace) = &command.replace {\n",
    "                replacement_text = replace.clone();\n",
    "                println!(\"Replacement text: {:?}\", replacement_text);\n",
    "            } else {\n",
    "                println!(\"Please provide a replacement text.\");\n",
    "            }\n",
    "            if let ignore = &command.ignore_case {\n",
    "                ignore_case = *ignore;\n",
    "                println!(\"Ignore case: {:?}\", ignore_case);\n",
    "            } else {\n",
    "                println!(\"Please provide if case sensitive replacement.\");\n",
    "            }\n",
    "\n",
    "            for input_file_path in input_files {\n",
    "                let mut input_content = read_file_to_string(&input_file_path)?;\n",
    "\n",
    "                println!(\"File Content Before: {:?}\", input_content);\n",
    "                find_and_replace(&mut input_content, &pattern_to_find, &replacement_text, ignore_case);\n",
    "\n",
    "                // Write the modified content back to the input file\n",
    "                write_string_to_file(&input_file_path, &input_content)?;\n",
    "\n",
    "                input_content = read_file_to_string(&input_file_path)?;\n",
    "                println!(\"File Content After: {:?}\", input_content);\n",
    "            }\n",
    "\n",
    "        }\n",
    "        None => println!(\"Unknown command. Use '--help' for usage instructions.\")\n",
    "    };\n",
    "\n",
    "    Ok(())\n",
    "\n",
    "}"
   ]
  },
  {
   "cell_type": "code",
   "execution_count": 69,
   "id": "b82fdc0c-22dd-4a18-b55c-edfc6e08ce78",
   "metadata": {},
   "outputs": [
    {
     "name": "stderr",
     "output_type": "stream",
     "text": [
      "    Finished dev [unoptimized + debuginfo] target(s) in 0.02s\n",
      "     Running `target/debug/multiple-input-files replace -i file1.txt file2.txt file3.txt -p world -r Rust -c`\n"
     ]
    },
    {
     "name": "stdout",
     "output_type": "stream",
     "text": [
      "Pattern: \"world\"\n",
      "Replacement text: \"Rust\"\n",
      "Ignore case: true\n",
      "File Content Before: \"Hello World\\n\"\n",
      "File Content After: \"Hello Rust\\n\"\n",
      "File Content Before: \"Hello World\\n\"\n",
      "File Content After: \"Hello Rust\\n\"\n",
      "File Content Before: \"Hello World\\n\"\n",
      "File Content After: \"Hello Rust\\n\"\n"
     ]
    },
    {
     "data": {
      "text/plain": [
       "()"
      ]
     },
     "execution_count": 69,
     "metadata": {},
     "output_type": "execute_result"
    }
   ],
   "source": [
    "let command = \"cd 9-multiple-input-files && cargo run -- replace -i file1.txt file2.txt file3.txt -p world -r Rust -c\";\n",
    "\n",
    "if let Err(err) = execute_command(command) {\n",
    "    eprintln!(\"Error executing command: {}\", err);\n",
    "}"
   ]
  },
  {
   "cell_type": "markdown",
   "id": "9d6c1b49-a109-4a19-b529-b4915509a913",
   "metadata": {},
   "source": [
    "---\n",
    "---"
   ]
  }
 ],
 "metadata": {
  "kernelspec": {
   "display_name": "Rust",
   "language": "rust",
   "name": "rust"
  },
  "language_info": {
   "codemirror_mode": "rust",
   "file_extension": ".rs",
   "mimetype": "text/rust",
   "name": "Rust",
   "pygment_lexer": "rust",
   "version": ""
  }
 },
 "nbformat": 4,
 "nbformat_minor": 5
}
