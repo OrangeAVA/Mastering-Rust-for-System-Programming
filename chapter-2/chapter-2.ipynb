{
 "cells": [
  {
   "cell_type": "markdown",
   "id": "f4c1e521-2f1d-44b5-a423-2a8eb94e4e68",
   "metadata": {},
   "source": [
    "# Google Colab Rust Setup\n",
    "\n",
    "The following cell is used to set up and spin up a Jupyter Notebook environment with a Rust kernel using Nix and IPC Proxy. "
   ]
  },
  {
   "cell_type": "code",
   "execution_count": null,
   "id": "8d32d008-4133-4b02-8493-e917ef4272e1",
   "metadata": {},
   "outputs": [],
   "source": [
    "!wget -qO- https://gist.github.com/wiseaidev/2af6bef753d48565d11bcd478728c979/archive/3f6df40db09f3517ade41997b541b81f0976c12e.tar.gz | tar xvz --strip-components=1\n",
    "!bash setup_evcxr_kernel.sh"
   ]
  },
  {
   "cell_type": "markdown",
   "id": "69379511-6c57-4998-9bfc-a5eb7e2e399d",
   "metadata": {},
   "source": [
    "## Variables and Data Types in Rust"
   ]
  },
  {
   "cell_type": "markdown",
   "id": "e5598576-98dd-4ffc-b37f-2b1f8bac1fc4",
   "metadata": {},
   "source": [
    "### Introduction to Variables"
   ]
  },
  {
   "cell_type": "code",
   "execution_count": 3,
   "id": "1cfd6bf8-4859-455c-b5f4-3a58a268a544",
   "metadata": {},
   "outputs": [],
   "source": [
    "let age: u32 = 30;\n",
    "let pi: f64 = 3.14159;\n",
    "let is_happy: bool = true;"
   ]
  },
  {
   "cell_type": "markdown",
   "id": "0c825d40-55c4-4c86-924d-3a6b7c675f4c",
   "metadata": {},
   "source": [
    "### Variables and Mutability"
   ]
  },
  {
   "cell_type": "code",
   "execution_count": 5,
   "id": "02d56cd2-72f5-45ec-afdd-f0a0dbc2d9ed",
   "metadata": {},
   "outputs": [
    {
     "name": "stdout",
     "output_type": "stream",
     "text": [
      "Initial count: 0\n",
      "Updated count: 1\n"
     ]
    }
   ],
   "source": [
    "let mut count = 0;\n",
    "println!(\"Initial count: {}\", count);\n",
    "count += 1;\n",
    "println!(\"Updated count: {}\", count);"
   ]
  },
  {
   "cell_type": "markdown",
   "id": "2d8d792d-6886-4d4f-b49c-5c8701852dfa",
   "metadata": {},
   "source": [
    "### Shadowing"
   ]
  },
  {
   "cell_type": "code",
   "execution_count": 6,
   "id": "8eb4b844-6e7a-4ec5-8d36-bac9759fb304",
   "metadata": {},
   "outputs": [
    {
     "name": "stdout",
     "output_type": "stream",
     "text": [
      "Original value of x: 5\n",
      "Shadowed value of x: 6\n",
      "Shadowed and modified value of x: 10\n"
     ]
    }
   ],
   "source": [
    "let x = 5;\n",
    "println!(\"Original value of x: {}\", x);\n",
    "\n",
    "{\n",
    "    let x = x + 1;\n",
    "    println!(\"Shadowed value of x: {}\", x);\n",
    "}\n",
    "\n",
    "let x = x * 2;\n",
    "println!(\"Shadowed and modified value of x: {}\", x);"
   ]
  },
  {
   "cell_type": "markdown",
   "id": "d6ac0d6f-124c-4b1e-9957-3be45f4f48bd",
   "metadata": {},
   "source": [
    "### Variables and Constants"
   ]
  },
  {
   "cell_type": "code",
   "execution_count": 7,
   "id": "1f636230-4438-4c17-9942-ad72d206cce7",
   "metadata": {},
   "outputs": [],
   "source": [
    "const MAX: u32 = 10_000_000;"
   ]
  },
  {
   "cell_type": "markdown",
   "id": "297039a7-4570-489e-bda3-7e9667a64303",
   "metadata": {},
   "source": [
    "### Working with Strings and Characters"
   ]
  },
  {
   "cell_type": "code",
   "execution_count": 10,
   "id": "2b0ab1a0-79df-4182-9d00-608f7a4eab34",
   "metadata": {},
   "outputs": [
    {
     "name": "stdout",
     "output_type": "stream",
     "text": [
      "Transformed: RUST IS AMAZIN'!\n"
     ]
    }
   ],
   "source": [
    "let sentence = \"Rust is amazin'!\";\n",
    "let transformed_sentence: String = sentence.chars().map(|c| c.to_ascii_uppercase()).collect();\n",
    "println!(\"Transformed: {}\", transformed_sentence);"
   ]
  },
  {
   "cell_type": "markdown",
   "id": "a23d61db-a1b7-4e87-961c-ba3660f9d241",
   "metadata": {},
   "source": [
    "### Unicode Support: Beyond ASCII"
   ]
  },
  {
   "cell_type": "code",
   "execution_count": 12,
   "id": "7bf11fee-ca59-4303-a2c2-8d4f95d5116f",
   "metadata": {},
   "outputs": [
    {
     "name": "stdout",
     "output_type": "stream",
     "text": [
      "The heart emoji has 6 characters.\n"
     ]
    }
   ],
   "source": [
    "let heart_emoji = \"❤️\";\n",
    "println!(\"The heart emoji has {} characters.\", heart_emoji.len());"
   ]
  },
  {
   "cell_type": "markdown",
   "id": "f51e6a23-d936-4c30-a268-fb8a5321361c",
   "metadata": {},
   "source": [
    "### Using Numeric Conversions"
   ]
  },
  {
   "cell_type": "code",
   "execution_count": 13,
   "id": "e3da18a8-7bdd-4ee7-84df-58aa5f231109",
   "metadata": {},
   "outputs": [
    {
     "name": "stdout",
     "output_type": "stream",
     "text": [
      "Converted float: 42\n"
     ]
    }
   ],
   "source": [
    "let integer_number: i32 = 42;\n",
    "let float_number: f64 = integer_number as f64;\n",
    "println!(\"Converted float: {}\", float_number);"
   ]
  },
  {
   "cell_type": "code",
   "execution_count": 14,
   "id": "338e78d5-41a4-449c-84e0-c38f342c8531",
   "metadata": {},
   "outputs": [
    {
     "name": "stdout",
     "output_type": "stream",
     "text": [
      "Truncated integer: 3\n"
     ]
    }
   ],
   "source": [
    "let float_number: f64 = 3.14;\n",
    "let truncated_integer: i32 = float_number as i32;\n",
    "println!(\"Truncated integer: {}\", truncated_integer);"
   ]
  },
  {
   "cell_type": "markdown",
   "id": "78976dd1-3306-4d82-9a3f-1138e6d984b7",
   "metadata": {},
   "source": [
    "---"
   ]
  },
  {
   "cell_type": "markdown",
   "id": "b827cbb2-18bd-4110-a470-2d7fb8c1d89b",
   "metadata": {},
   "source": [
    "## Basic Mathematical Operations"
   ]
  },
  {
   "cell_type": "markdown",
   "id": "0d59d5e8-64b1-4963-a417-e3adfabfe40e",
   "metadata": {},
   "source": [
    "### Addition"
   ]
  },
  {
   "cell_type": "code",
   "execution_count": 17,
   "id": "55994dd2-c8f4-49c0-9f56-15756e8e659b",
   "metadata": {},
   "outputs": [
    {
     "data": {
      "text/plain": [
       "10"
      ]
     },
     "execution_count": 17,
     "metadata": {},
     "output_type": "execute_result"
    }
   ],
   "source": [
    "let sum = 3 + 7;\n",
    "sum"
   ]
  },
  {
   "cell_type": "markdown",
   "id": "099edf3d-cbca-481c-82f9-2c794e9d3113",
   "metadata": {},
   "source": [
    "### Subtraction"
   ]
  },
  {
   "cell_type": "code",
   "execution_count": 18,
   "id": "fd351710-427c-4ff6-bbc9-bf815c1f978a",
   "metadata": {},
   "outputs": [
    {
     "data": {
      "text/plain": [
       "91.2"
      ]
     },
     "execution_count": 18,
     "metadata": {},
     "output_type": "execute_result"
    }
   ],
   "source": [
    "let difference = 92.5 - 1.3;\n",
    "difference"
   ]
  },
  {
   "cell_type": "markdown",
   "id": "4e0e42bc-25c9-4f54-88da-e63f7ca8a3ff",
   "metadata": {},
   "source": [
    "### Multiplication"
   ]
  },
  {
   "cell_type": "code",
   "execution_count": 19,
   "id": "6495954b-0292-4211-96b4-00c658d77077",
   "metadata": {},
   "outputs": [
    {
     "data": {
      "text/plain": [
       "90"
      ]
     },
     "execution_count": 19,
     "metadata": {},
     "output_type": "execute_result"
    }
   ],
   "source": [
    "let product = 3 * 30;\n",
    "product"
   ]
  },
  {
   "cell_type": "markdown",
   "id": "08d95158-08fb-4ff0-b557-8be54c14df09",
   "metadata": {},
   "source": [
    "### Division"
   ]
  },
  {
   "cell_type": "code",
   "execution_count": 21,
   "id": "2daabac1-af0b-46b9-b6cb-5b93358b200e",
   "metadata": {},
   "outputs": [
    {
     "data": {
      "text/plain": [
       "1.7608695652173911"
      ]
     },
     "execution_count": 21,
     "metadata": {},
     "output_type": "execute_result"
    }
   ],
   "source": [
    "let quotient = 56.7 / 32.2;\n",
    "quotient"
   ]
  },
  {
   "cell_type": "markdown",
   "id": "3cc04df2-ddc2-4991-b010-ed60a0bfcb99",
   "metadata": {},
   "source": [
    "### Remainder"
   ]
  },
  {
   "cell_type": "code",
   "execution_count": 22,
   "id": "99d04a7b-9161-4146-938b-b1e6b4b3c329",
   "metadata": {},
   "outputs": [
    {
     "data": {
      "text/plain": [
       "3"
      ]
     },
     "execution_count": 22,
     "metadata": {},
     "output_type": "execute_result"
    }
   ],
   "source": [
    "let remainder = 43 % 5;\n",
    "remainder"
   ]
  },
  {
   "cell_type": "markdown",
   "id": "87c37d2d-f4c7-4c50-9f92-2888da869868",
   "metadata": {},
   "source": [
    "---"
   ]
  },
  {
   "cell_type": "markdown",
   "id": "aa92489a-affa-482d-885c-37b6d65ebcd5",
   "metadata": {},
   "source": [
    "## Floating-Point Numbers"
   ]
  },
  {
   "cell_type": "markdown",
   "id": "2acf419c-184f-43eb-ae46-1e1adb112f02",
   "metadata": {},
   "source": [
    "### `f32` for Efficiency"
   ]
  },
  {
   "cell_type": "code",
   "execution_count": 24,
   "id": "0f611356-982f-4f8b-8919-e4ccc07efbaf",
   "metadata": {},
   "outputs": [],
   "source": [
    "let distance_f32: f32 = 123.456;\n",
    "let velocity: f32 = 12.34;\n",
    "let temperature: f32 = -5.67;"
   ]
  },
  {
   "cell_type": "markdown",
   "id": "98d36003-a3ea-49c6-baa7-a5b02a46535a",
   "metadata": {},
   "source": [
    "### `f64` for precision"
   ]
  },
  {
   "cell_type": "code",
   "execution_count": 25,
   "id": "d0c2cd2f-86ba-4120-9a7e-cda66e659312",
   "metadata": {},
   "outputs": [],
   "source": [
    "let pi_approximation: f64 = 3.141592653589793;\n",
    "let gravitational_constant: f64 = 6.67430e-11;"
   ]
  },
  {
   "cell_type": "markdown",
   "id": "57d25cf4-12ca-4a22-a05d-3822adc9546a",
   "metadata": {},
   "source": [
    "### Performing Mathematical Operations"
   ]
  },
  {
   "cell_type": "code",
   "execution_count": 26,
   "id": "6ba5c601-476f-40e2-9ee8-58f4d01dc62f",
   "metadata": {},
   "outputs": [],
   "source": [
    "let radius_f32: f32 = 10.0;\n",
    "let area_f32 = 3.14 * radius_f32 * radius_f32;\n",
    "\n",
    "let radius_f64: f64 = 10.0;\n",
    "let area_f64 = std::f64::consts::PI * radius_f64 * radius_f64;"
   ]
  },
  {
   "cell_type": "markdown",
   "id": "19f1ef6f-e7c1-40d6-a4d5-e0132316ca02",
   "metadata": {},
   "source": [
    "### Navigating Subtle Discrepancies"
   ]
  },
  {
   "cell_type": "code",
   "execution_count": 27,
   "id": "f5072fa0-1595-4133-a142-4bc52b108741",
   "metadata": {},
   "outputs": [
    {
     "name": "stdout",
     "output_type": "stream",
     "text": [
      "Not quite equal, due to tiny discrepancies.\n"
     ]
    },
    {
     "data": {
      "text/plain": [
       "()"
      ]
     },
     "execution_count": 27,
     "metadata": {},
     "output_type": "execute_result"
    }
   ],
   "source": [
    "let tricky_number: f64 = 0.1 + 0.1 + 0.1; // 0.30000000000000004\n",
    "let expected_number: f64 = 0.3;\n",
    "\n",
    "if tricky_number == expected_number {\n",
    "    println!(\"They're equal, right?\");\n",
    "} else {\n",
    "    println!(\"Not quite equal, due to tiny discrepancies.\");\n",
    "}"
   ]
  },
  {
   "cell_type": "markdown",
   "id": "15b9ead0-56c8-4194-876e-aa2653d8811a",
   "metadata": {},
   "source": [
    "### Safeguarding with Approximate Equality"
   ]
  },
  {
   "cell_type": "code",
   "execution_count": 28,
   "id": "4aa4033c-c56e-4847-afc7-c4a5212e3ef1",
   "metadata": {},
   "outputs": [
    {
     "name": "stdout",
     "output_type": "stream",
     "text": [
      "Approximately equal within the tolerance.\n"
     ]
    },
    {
     "data": {
      "text/plain": [
       "()"
      ]
     },
     "execution_count": 28,
     "metadata": {},
     "output_type": "execute_result"
    }
   ],
   "source": [
    "fn approx_equal(a: f64, b: f64, tolerance: f64) -> bool {\n",
    "    (a - b).abs() < tolerance\n",
    "}\n",
    "\n",
    "let value_a: f64 = 0.1 + 0.1 + 0.1;\n",
    "let value_b: f64 = 0.3;\n",
    "let tolerance: f64 = 1e-10;\n",
    "\n",
    "if approx_equal(value_a, value_b, tolerance) {\n",
    "    println!(\"Approximately equal within the tolerance.\");\n",
    "} else {\n",
    "    println!(\"Not equal, even with tolerance considered.\");\n",
    "}"
   ]
  },
  {
   "cell_type": "markdown",
   "id": "01941eb7-ec24-41d1-b4ae-470f87b6a051",
   "metadata": {},
   "source": [
    "---"
   ]
  },
  {
   "cell_type": "markdown",
   "id": "89d94331-3c10-4678-9ce0-44ba5f657d6d",
   "metadata": {},
   "source": [
    "## Complex Data Types: Beyond Primitives"
   ]
  },
  {
   "cell_type": "markdown",
   "id": "88171984-b189-4ef1-b428-6c2fba91b1ba",
   "metadata": {},
   "source": [
    "### Strings: Textual Treasures"
   ]
  },
  {
   "cell_type": "code",
   "execution_count": 35,
   "id": "4abb459a-5b04-4e02-b22d-f1ebb9436e40",
   "metadata": {},
   "outputs": [
    {
     "data": {
      "text/plain": [
       "\"Hello, welcome to Rust!\""
      ]
     },
     "execution_count": 35,
     "metadata": {},
     "output_type": "execute_result"
    }
   ],
   "source": [
    "let mut user_greeting = String::from(\"Hello\");\n",
    "user_greeting.push_str(\", welcome to Rust!\");\n",
    "user_greeting"
   ]
  },
  {
   "cell_type": "code",
   "execution_count": 36,
   "id": "4c760f23-d56b-4c7c-8bec-e4e59a11e445",
   "metadata": {},
   "outputs": [
    {
     "name": "stdout",
     "output_type": "stream",
     "text": [
      "The word 'Rust' appears 2 times.\n"
     ]
    }
   ],
   "source": [
    "let sentence = \"Rust is a programming language. Rust is powerful.\";\n",
    "let target_word = \"Rust\";\n",
    "let count = sentence.matches(target_word).count();\n",
    "println!(\"The word '{}' appears {} times.\", target_word, count);"
   ]
  },
  {
   "cell_type": "markdown",
   "id": "b391af1a-7fc2-4dc5-b306-60e8d8beb857",
   "metadata": {},
   "source": [
    "### Working with Substrings: Slicing and Dicing"
   ]
  },
  {
   "cell_type": "code",
   "execution_count": 37,
   "id": "933c07ff-62b9-4199-b4d2-ac752cc320bc",
   "metadata": {},
   "outputs": [
    {
     "name": "stdout",
     "output_type": "stream",
     "text": [
      "First word: Rust\n"
     ]
    }
   ],
   "source": [
    "let sentence = \"Rust is fun!\";\n",
    "let first_word = &sentence[0..4];\n",
    "println!(\"First word: {}\", first_word);"
   ]
  },
  {
   "cell_type": "markdown",
   "id": "b49e0650-497c-4ab0-ba57-1134f40c37ac",
   "metadata": {},
   "source": [
    "### Combining Strings: Concatenation and Interpolation"
   ]
  },
  {
   "cell_type": "code",
   "execution_count": 39,
   "id": "08351d87-800c-40f3-b654-b89ac0ddca9d",
   "metadata": {},
   "outputs": [
    {
     "name": "stdout",
     "output_type": "stream",
     "text": [
      "Full name: Mahmoud Harmouch\n",
      "Mahmoud is 25 years old.\n"
     ]
    }
   ],
   "source": [
    "let first_name = \"Mahmoud\";\n",
    "let last_name = \"Harmouch\";\n",
    "let full_name = first_name.to_string() + \" \" + last_name;\n",
    "println!(\"Full name: {}\", full_name);\n",
    "\n",
    "let age = 25;\n",
    "let message = format!(\"{} is {} years old.\", first_name, age);\n",
    "println!(\"{}\", message);"
   ]
  },
  {
   "cell_type": "markdown",
   "id": "37fb76e4-1fa8-4840-84c8-0a7c9e97cd74",
   "metadata": {},
   "source": [
    "### Arrays: Collections with a Twist"
   ]
  },
  {
   "cell_type": "code",
   "execution_count": 41,
   "id": "f7f52fd0-6d26-4eb3-956c-b31ab3b51447",
   "metadata": {},
   "outputs": [
    {
     "data": {
      "text/plain": [
       "[23.5, 25.1, 21.8, 20.7, 22.3, 24.9, 26.6]"
      ]
     },
     "execution_count": 41,
     "metadata": {},
     "output_type": "execute_result"
    }
   ],
   "source": [
    "let temperatures: [f64; 7] = [23.5, 25.1, 21.8, 20.7, 22.3, 24.9, 26.6];\n",
    "temperatures"
   ]
  },
  {
   "cell_type": "code",
   "execution_count": 42,
   "id": "0580acea-4cef-4275-81a7-394452fd0c13",
   "metadata": {},
   "outputs": [
    {
     "data": {
      "text/plain": [
       "[0, 1, 1, 2, 3]"
      ]
     },
     "execution_count": 42,
     "metadata": {},
     "output_type": "execute_result"
    }
   ],
   "source": [
    "let fibonacci: [u32; 5] = [0, 1, 1, 2, 3];\n",
    "fibonacci"
   ]
  },
  {
   "cell_type": "code",
   "execution_count": 45,
   "id": "32acd582-0385-4c98-bda4-99673d864464",
   "metadata": {},
   "outputs": [
    {
     "data": {
      "text/plain": [
       "[50.2, 52.6, 51.0, 53.2, 49.8, 48.5, 51.7, 53.9, 50.0, 49.2]"
      ]
     },
     "execution_count": 45,
     "metadata": {},
     "output_type": "execute_result"
    }
   ],
   "source": [
    "let stock_prices: [f32; 10] = [50.2, 52.6, 51.0, 53.2, 49.8, 48.5, 51.7, 53.9, 50.0, 49.2];\n",
    "stock_prices"
   ]
  },
  {
   "attachments": {},
   "cell_type": "markdown",
   "id": "22ef8554-cda8-42f1-960b-412d99f032d2",
   "metadata": {},
   "source": [
    "### Tuples: Heterogeneous Bundles "
   ]
  },
  {
   "cell_type": "code",
   "execution_count": 46,
   "id": "85edf119-8241-445f-b7ae-7708f154a8dc",
   "metadata": {},
   "outputs": [
    {
     "data": {
      "text/plain": [
       "(\"Mahmoud\", 25, true)"
      ]
     },
     "execution_count": 46,
     "metadata": {},
     "output_type": "execute_result"
    }
   ],
   "source": [
    "let person_info: (String, u32, bool) = (\"Mahmoud\".to_string(), 25, true);\n",
    "person_info"
   ]
  },
  {
   "cell_type": "code",
   "execution_count": 47,
   "id": "7729f4ae-0a4b-4ef9-bca3-16c2bc83958e",
   "metadata": {},
   "outputs": [
    {
     "name": "stdout",
     "output_type": "stream",
     "text": [
      "Name: Mahmoud, Age: 25, Registered: true\n"
     ]
    }
   ],
   "source": [
    "let (name, age, is_registered) = person_info;\n",
    "println!(\"Name: {}, Age: {}, Registered: {}\", name, age, is_registered);"
   ]
  },
  {
   "cell_type": "code",
   "execution_count": 49,
   "id": "da4072ea-a49b-49fe-a5f6-46674320986b",
   "metadata": {},
   "outputs": [],
   "source": [
    "fn calculate_area_and_perimeter(length: f64, width: f64) -> (f64, f64) {\n",
    "    let area = length * width;\n",
    "    let perimeter = 2.0 * (length + width);\n",
    "    (area, perimeter)\n",
    "}"
   ]
  },
  {
   "cell_type": "markdown",
   "id": "7e3be4a9-8952-45db-a7ff-de89cee66b3a",
   "metadata": {},
   "source": [
    "---"
   ]
  },
  {
   "cell_type": "markdown",
   "id": "b130c521-5377-4165-afd3-c429e3165a6a",
   "metadata": {},
   "source": [
    "## Control Flow: Navigating Your Code"
   ]
  },
  {
   "cell_type": "markdown",
   "id": "90c9477e-355c-412f-8708-421f709fbf68",
   "metadata": {},
   "source": [
    "### Conditional Statements with `if` and `else`"
   ]
  },
  {
   "cell_type": "code",
   "execution_count": 51,
   "id": "93633ba0-8d4a-465b-8f33-e6d9f032361f",
   "metadata": {},
   "outputs": [
    {
     "name": "stdout",
     "output_type": "stream",
     "text": [
      "The number is odd.\n"
     ]
    },
    {
     "data": {
      "text/plain": [
       "()"
      ]
     },
     "execution_count": 51,
     "metadata": {},
     "output_type": "execute_result"
    }
   ],
   "source": [
    "let num = 7;\n",
    "\n",
    "if num % 2 == 0 {\n",
    "    println!(\"The number is even.\");\n",
    "} else {\n",
    "    println!(\"The number is odd.\");\n",
    "}"
   ]
  },
  {
   "cell_type": "markdown",
   "id": "723d746a-6820-4925-90f3-bfb2f0aff866",
   "metadata": {},
   "source": [
    "### Iterative Execution with `while` Loops"
   ]
  },
  {
   "cell_type": "code",
   "execution_count": 52,
   "id": "7ed59bba-0ffd-451b-86cb-83c07631fc04",
   "metadata": {},
   "outputs": [
    {
     "name": "stdout",
     "output_type": "stream",
     "text": [
      "Current count: 0\n",
      "Current count: 1\n",
      "Current count: 2\n",
      "Current count: 3\n",
      "Current count: 4\n"
     ]
    },
    {
     "data": {
      "text/plain": [
       "()"
      ]
     },
     "execution_count": 52,
     "metadata": {},
     "output_type": "execute_result"
    }
   ],
   "source": [
    "let mut count = 0;\n",
    "while count < 5 {\n",
    "    println!(\"Current count: {}\", count);\n",
    "    count += 1;\n",
    "}"
   ]
  },
  {
   "cell_type": "markdown",
   "id": "2d4a3099-19b8-4785-87af-a6796b8efc30",
   "metadata": {},
   "source": [
    "### Versatile Iteration with `for` Loops"
   ]
  },
  {
   "cell_type": "code",
   "execution_count": 54,
   "id": "cf9f73dc-1a5e-4e62-aab8-6aff63d3b647",
   "metadata": {},
   "outputs": [
    {
     "name": "stdout",
     "output_type": "stream",
     "text": [
      "Current value: 1\n",
      "Current value: 2\n",
      "Current value: 3\n"
     ]
    },
    {
     "data": {
      "text/plain": [
       "()"
      ]
     },
     "execution_count": 54,
     "metadata": {},
     "output_type": "execute_result"
    }
   ],
   "source": [
    "for i in 1..=3 {\n",
    "    println!(\"Current value: {}\", i);\n",
    "}"
   ]
  },
  {
   "cell_type": "markdown",
   "id": "8d06966d-232e-43f5-8ca4-a4e257e845b6",
   "metadata": {},
   "source": [
    "### Elegant Branching with `match` Expressions"
   ]
  },
  {
   "cell_type": "code",
   "execution_count": 56,
   "id": "b4a1d7f3-2a88-4ec8-ace8-19761f382414",
   "metadata": {},
   "outputs": [
    {
     "name": "stdout",
     "output_type": "stream",
     "text": [
      "It's just another day.\n"
     ]
    },
    {
     "data": {
      "text/plain": [
       "()"
      ]
     },
     "execution_count": 56,
     "metadata": {},
     "output_type": "execute_result"
    }
   ],
   "source": [
    "let day = \"Wednesday\";\n",
    "match day {\n",
    "    \"Monday\" => println!(\"It's the start of the week!\"),\n",
    "    \"Friday\" => println!(\"Weekend is near!\"),\n",
    "    _ => println!(\"It's just another day.\"),\n",
    "}"
   ]
  },
  {
   "cell_type": "markdown",
   "id": "4f156ae4-3640-4039-b2d2-67b0899a8f8f",
   "metadata": {},
   "source": [
    "---"
   ]
  },
  {
   "cell_type": "markdown",
   "id": "36129291-7f08-41ca-8ea5-78e712f63c2f",
   "metadata": {},
   "source": [
    "## Functions: Building Blocks of Reusable Code"
   ]
  },
  {
   "cell_type": "markdown",
   "id": "b431e008-04cd-4aa8-96d0-2f7867865ccd",
   "metadata": {},
   "source": [
    "### Defining Functions with Explicit Signatures"
   ]
  },
  {
   "cell_type": "code",
   "execution_count": 57,
   "id": "dd8dd5b2-ae09-4490-89e0-cfdc5172ed0c",
   "metadata": {},
   "outputs": [
    {
     "name": "stdout",
     "output_type": "stream",
     "text": [
      "Sum: 8\n"
     ]
    }
   ],
   "source": [
    "fn add(a: i32, b: i32) -> i32 {\n",
    "    a + b\n",
    "}\n",
    "\n",
    "let result = add(5, 3);\n",
    "println!(\"Sum: {}\", result);"
   ]
  },
  {
   "cell_type": "markdown",
   "id": "8266648a-6087-41ba-aed8-d59e5d0d9fcc",
   "metadata": {},
   "source": [
    "### Nested Functions: Encouraging Modularity"
   ]
  },
  {
   "cell_type": "code",
   "execution_count": 65,
   "id": "2dd683b4-77c3-47d6-a30d-6abe1b5f122d",
   "metadata": {},
   "outputs": [
    {
     "name": "stdout",
     "output_type": "stream",
     "text": [
      "Product: 35\n"
     ]
    },
    {
     "data": {
      "text/plain": [
       "()"
      ]
     },
     "execution_count": 65,
     "metadata": {},
     "output_type": "execute_result"
    }
   ],
   "source": [
    "fn outer() {\n",
    "    let x = 5;\n",
    "    let y = 7;\n",
    "\n",
    "    fn inner_function(a: i32, b: i32) -> i32 {\n",
    "        a * b\n",
    "    }\n",
    "\n",
    "    let result = inner_function(x, y);\n",
    "    println!(\"Product: {}\", result);\n",
    "}\n",
    "outer()"
   ]
  },
  {
   "cell_type": "markdown",
   "id": "583b8f8a-22bf-43ce-a3ae-e36397ea8bc3",
   "metadata": {},
   "source": [
    "### Closures: Concise Anonymous Functions"
   ]
  },
  {
   "cell_type": "code",
   "execution_count": 68,
   "id": "297834bb-d2a8-452c-aa97-b876e3ed5cb2",
   "metadata": {},
   "outputs": [
    {
     "name": "stdout",
     "output_type": "stream",
     "text": [
      "Product: 28\n"
     ]
    },
    {
     "data": {
      "text/plain": [
       "()"
      ]
     },
     "execution_count": 68,
     "metadata": {},
     "output_type": "execute_result"
    }
   ],
   "source": [
    "{\n",
    "    let multiply = |x: i32, y: i32| x * y;\n",
    "    let product = multiply(4, 7);\n",
    "    println!(\"Product: {}\", product);\n",
    "}"
   ]
  },
  {
   "cell_type": "markdown",
   "id": "c7e760fc-34b6-46b1-a600-4c7dd4410947",
   "metadata": {},
   "source": [
    "---"
   ]
  },
  {
   "cell_type": "markdown",
   "id": "7d2e838c-c4e8-4d13-a858-f8ca5b005fe1",
   "metadata": {},
   "source": [
    "## Ownership, Borrowing, and Lifetimes"
   ]
  },
  {
   "cell_type": "markdown",
   "id": "6421f2e0-2783-42ad-899a-7f2c55181ba6",
   "metadata": {},
   "source": [
    "### Ownership: A Cornerstone of Memory Safety"
   ]
  },
  {
   "cell_type": "code",
   "execution_count": 69,
   "id": "7040afc8-d001-4de8-ae09-52e93617eacd",
   "metadata": {},
   "outputs": [],
   "source": [
    "let s = String::from(\"hello\");\n",
    "// ... do something with 's'\n",
    "// 's' goes out of scope, and memory is deallocated"
   ]
  },
  {
   "cell_type": "markdown",
   "id": "ef6aa7c0-43b4-4855-9969-966e27cdba25",
   "metadata": {},
   "source": [
    "### The Borrow Checker: Enforcing Memory Safety"
   ]
  },
  {
   "cell_type": "code",
   "execution_count": 70,
   "id": "794d6fea-d1b0-4a6c-9485-6d83714b685b",
   "metadata": {},
   "outputs": [
    {
     "name": "stdout",
     "output_type": "stream",
     "text": [
      "Length of 'hello': 5\n"
     ]
    },
    {
     "data": {
      "text/plain": [
       "()"
      ]
     },
     "execution_count": 70,
     "metadata": {},
     "output_type": "execute_result"
    }
   ],
   "source": [
    "fn main() {\n",
    "    let s1 = String::from(\"hello\");\n",
    "    let len = calculate_length(&s1); // <1>\n",
    "\n",
    "    println!(\"Length of '{}': {}\", s1, len);\n",
    "}\n",
    "\n",
    "fn calculate_length(s: &String) -> usize { // <2>\n",
    "    s.len()\n",
    "}\n",
    "main()"
   ]
  },
  {
   "cell_type": "code",
   "execution_count": null,
   "id": "0e2c8550-1c6a-4ea6-82b1-6af6829c863d",
   "metadata": {},
   "outputs": [],
   "source": []
  }
 ],
 "metadata": {
  "kernelspec": {
   "display_name": "Rust",
   "language": "rust",
   "name": "rust"
  },
  "language_info": {
   "codemirror_mode": "rust",
   "file_extension": ".rs",
   "mimetype": "text/rust",
   "name": "Rust",
   "pygment_lexer": "rust",
   "version": ""
  }
 },
 "nbformat": 4,
 "nbformat_minor": 5
}
