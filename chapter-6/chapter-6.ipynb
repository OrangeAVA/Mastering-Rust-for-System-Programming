{
 "cells": [
  {
   "cell_type": "markdown",
   "id": "ba91b55b-f380-445d-82e3-3b133d25e605",
   "metadata": {},
   "source": [
    "# Google Colab Rust Setup\n",
    "\n",
    "The following cell is used to set up and spin up a Jupyter Notebook environment with a Rust kernel using Nix and IPC Proxy. "
   ]
  },
  {
   "cell_type": "code",
   "execution_count": null,
   "id": "bab390a4-0dda-44ad-bf3f-f6ef77d8d685",
   "metadata": {},
   "outputs": [],
   "source": [
    "!wget -qO- https://gist.github.com/wiseaidev/2af6bef753d48565d11bcd478728c979/archive/3f6df40db09f3517ade41997b541b81f0976c12e.tar.gz | tar xvz --strip-components=1\n",
    "!bash setup_evcxr_kernel.sh"
   ]
  },
  {
   "cell_type": "markdown",
   "id": "60c8d72c-b011-4360-b368-d540b8d7361a",
   "metadata": {},
   "source": [
    "## Memory Management and Pointers"
   ]
  },
  {
   "cell_type": "markdown",
   "id": "38339871-7f3d-49d8-9b4f-e77f9e2a88da",
   "metadata": {},
   "source": [
    "### Challenges of Manual Memory Management"
   ]
  },
  {
   "cell_type": "markdown",
   "id": "7136eee5-98c0-49c2-92cd-5adaf908d6c3",
   "metadata": {},
   "source": [
    "#### Ownership and Borrowing"
   ]
  },
  {
   "cell_type": "code",
   "execution_count": 2,
   "id": "c03bfa03-ee78-4267-8d9b-582b98865f88",
   "metadata": {},
   "outputs": [
    {
     "name": "stdout",
     "output_type": "stream",
     "text": [
      "s2: hello\n"
     ]
    }
   ],
   "source": [
    "let s1 = String::from(\"hello\");\n",
    "let s2 = s1;\n",
    "// println!(\"s1: {}\", s1);\n",
    "println!(\"s2: {}\", s2);"
   ]
  },
  {
   "cell_type": "code",
   "execution_count": 3,
   "id": "c0ce8aed-cc23-4309-830c-a2874675e5fb",
   "metadata": {},
   "outputs": [
    {
     "ename": "Error",
     "evalue": "borrow of moved value: `s1`",
     "output_type": "error",
     "traceback": [
      "\u001b[31m[E0382] Error:\u001b[0m borrow of moved value: `s1`",
      "   \u001b[38;5;246m╭\u001b[0m\u001b[38;5;246m─\u001b[0m\u001b[38;5;246m[\u001b[0mcommand_3:1:1\u001b[38;5;246m]\u001b[0m",
      "   \u001b[38;5;246m│\u001b[0m",
      " \u001b[38;5;246m1 │\u001b[0m \u001b[38;5;249ml\u001b[0m\u001b[38;5;249me\u001b[0m\u001b[38;5;249mt\u001b[0m\u001b[38;5;249m \u001b[0m\u001b[38;5;68ms\u001b[0m\u001b[38;5;68m1\u001b[0m\u001b[38;5;249m \u001b[0m\u001b[38;5;249m=\u001b[0m\u001b[38;5;249m \u001b[0m\u001b[38;5;249mS\u001b[0m\u001b[38;5;249mt\u001b[0m\u001b[38;5;249mr\u001b[0m\u001b[38;5;249mi\u001b[0m\u001b[38;5;249mn\u001b[0m\u001b[38;5;249mg\u001b[0m\u001b[38;5;249m:\u001b[0m\u001b[38;5;249m:\u001b[0m\u001b[38;5;249mf\u001b[0m\u001b[38;5;249mr\u001b[0m\u001b[38;5;249mo\u001b[0m\u001b[38;5;249mm\u001b[0m\u001b[38;5;249m(\u001b[0m\u001b[38;5;249m\"\u001b[0m\u001b[38;5;249mh\u001b[0m\u001b[38;5;249me\u001b[0m\u001b[38;5;249ml\u001b[0m\u001b[38;5;249ml\u001b[0m\u001b[38;5;249mo\u001b[0m\u001b[38;5;249m\"\u001b[0m\u001b[38;5;249m)\u001b[0m\u001b[38;5;249m;\u001b[0m",
      " \u001b[38;5;240m  │\u001b[0m     \u001b[38;5;68m─\u001b[0m\u001b[38;5;68m┬\u001b[0m  ",
      " \u001b[38;5;240m  │\u001b[0m      \u001b[38;5;68m╰\u001b[0m\u001b[38;5;68m─\u001b[0m\u001b[38;5;68m─\u001b[0m move occurs because `s1` has type `String`, which does not implement the `Copy` trait",
      " \u001b[38;5;246m2 │\u001b[0m \u001b[38;5;249ml\u001b[0m\u001b[38;5;249me\u001b[0m\u001b[38;5;249mt\u001b[0m\u001b[38;5;249m \u001b[0m\u001b[38;5;249ms\u001b[0m\u001b[38;5;249m2\u001b[0m\u001b[38;5;249m \u001b[0m\u001b[38;5;249m=\u001b[0m\u001b[38;5;249m \u001b[0m\u001b[38;5;54ms\u001b[0m\u001b[38;5;54m1\u001b[0m\u001b[38;5;249m;\u001b[0m",
      " \u001b[38;5;240m  │\u001b[0m          \u001b[38;5;54m─\u001b[0m\u001b[38;5;54m┬\u001b[0m\u001b[38;5;37m│\u001b[0m ",
      " \u001b[38;5;240m  │\u001b[0m           \u001b[38;5;54m╰\u001b[0m\u001b[38;5;54m─\u001b[0m\u001b[38;5;54m─\u001b[0m value moved here",
      " \u001b[38;5;240m  │\u001b[0m            \u001b[38;5;37m│\u001b[0m ",
      " \u001b[38;5;240m  │\u001b[0m            \u001b[38;5;37m╰\u001b[0m\u001b[38;5;37m─\u001b[0m help: consider cloning the value if the performance cost is acceptable: `.clone()`",
      " \u001b[38;5;246m3 │\u001b[0m \u001b[38;5;249mp\u001b[0m\u001b[38;5;249mr\u001b[0m\u001b[38;5;249mi\u001b[0m\u001b[38;5;249mn\u001b[0m\u001b[38;5;249mt\u001b[0m\u001b[38;5;249ml\u001b[0m\u001b[38;5;249mn\u001b[0m\u001b[38;5;249m!\u001b[0m\u001b[38;5;249m(\u001b[0m\u001b[38;5;249m\"\u001b[0m\u001b[38;5;249ms\u001b[0m\u001b[38;5;249m1\u001b[0m\u001b[38;5;249m:\u001b[0m\u001b[38;5;249m \u001b[0m\u001b[38;5;249m{\u001b[0m\u001b[38;5;249m}\u001b[0m\u001b[38;5;249m\"\u001b[0m\u001b[38;5;249m,\u001b[0m\u001b[38;5;249m \u001b[0m\u001b[38;5;100ms\u001b[0m\u001b[38;5;100m1\u001b[0m\u001b[38;5;249m)\u001b[0m\u001b[38;5;249m;\u001b[0m",
      " \u001b[38;5;240m  │\u001b[0m                    \u001b[38;5;100m─\u001b[0m\u001b[38;5;100m┬\u001b[0m  ",
      " \u001b[38;5;240m  │\u001b[0m                     \u001b[38;5;100m╰\u001b[0m\u001b[38;5;100m─\u001b[0m\u001b[38;5;100m─\u001b[0m value borrowed here after move",
      "\u001b[38;5;246m───╯\u001b[0m"
     ]
    }
   ],
   "source": [
    "let s1 = String::from(\"hello\");\n",
    "let s2 = s1;\n",
    "println!(\"s1: {}\", s1);\n",
    "println!(\"s2: {}\", s2);"
   ]
  },
  {
   "cell_type": "markdown",
   "id": "b2c280ac-2438-43e1-9a18-98baec012e77",
   "metadata": {},
   "source": [
    "#### Dangling References"
   ]
  },
  {
   "cell_type": "code",
   "execution_count": 6,
   "id": "21af2e95-fe3e-4c88-989d-4ba92ac5b22e",
   "metadata": {},
   "outputs": [
    {
     "ename": "Error",
     "evalue": "`x` does not live long enough",
     "output_type": "error",
     "traceback": [
      "\u001b[31m[E0597] Error:\u001b[0m `x` does not live long enough",
      "   \u001b[38;5;246m╭\u001b[0m\u001b[38;5;246m─\u001b[0m\u001b[38;5;246m[\u001b[0mcommand_6:1:1\u001b[38;5;246m]\u001b[0m",
      "   \u001b[38;5;246m│\u001b[0m",
      " \u001b[38;5;246m4 │\u001b[0m \u001b[38;5;249m \u001b[0m\u001b[38;5;249m \u001b[0m\u001b[38;5;249m \u001b[0m\u001b[38;5;249m \u001b[0m\u001b[38;5;249m \u001b[0m\u001b[38;5;249m \u001b[0m\u001b[38;5;249m \u001b[0m\u001b[38;5;249m \u001b[0m\u001b[38;5;249ml\u001b[0m\u001b[38;5;249me\u001b[0m\u001b[38;5;249mt\u001b[0m\u001b[38;5;249m \u001b[0m\u001b[38;5;68mx\u001b[0m\u001b[38;5;249m \u001b[0m\u001b[38;5;249m=\u001b[0m\u001b[38;5;249m \u001b[0m\u001b[38;5;249m4\u001b[0m\u001b[38;5;249m2\u001b[0m\u001b[38;5;249m;\u001b[0m",
      " \u001b[38;5;240m  │\u001b[0m             \u001b[38;5;68m┬\u001b[0m  ",
      " \u001b[38;5;240m  │\u001b[0m             \u001b[38;5;68m╰\u001b[0m\u001b[38;5;68m─\u001b[0m\u001b[38;5;68m─\u001b[0m binding `x` declared here",
      " \u001b[38;5;246m5 │\u001b[0m \u001b[38;5;249m \u001b[0m\u001b[38;5;249m \u001b[0m\u001b[38;5;249m \u001b[0m\u001b[38;5;249m \u001b[0m\u001b[38;5;249m \u001b[0m\u001b[38;5;249m \u001b[0m\u001b[38;5;249m \u001b[0m\u001b[38;5;249m \u001b[0m\u001b[38;5;249mr\u001b[0m\u001b[38;5;249m \u001b[0m\u001b[38;5;249m=\u001b[0m\u001b[38;5;249m \u001b[0m\u001b[38;5;54m&\u001b[0m\u001b[38;5;54mx\u001b[0m\u001b[38;5;249m;\u001b[0m\u001b[38;5;249m \u001b[0m\u001b[38;5;249m/\u001b[0m\u001b[38;5;249m/\u001b[0m\u001b[38;5;249m \u001b[0m\u001b[38;5;249m<\u001b[0m\u001b[38;5;249m1\u001b[0m\u001b[38;5;249m>\u001b[0m",
      " \u001b[38;5;240m  │\u001b[0m             \u001b[38;5;54m─\u001b[0m\u001b[38;5;54m┬\u001b[0m  ",
      " \u001b[38;5;240m  │\u001b[0m              \u001b[38;5;54m╰\u001b[0m\u001b[38;5;54m─\u001b[0m\u001b[38;5;54m─\u001b[0m borrowed value does not live long enough",
      " \u001b[38;5;246m6 │\u001b[0m \u001b[38;5;249m \u001b[0m\u001b[38;5;249m \u001b[0m\u001b[38;5;249m \u001b[0m\u001b[38;5;249m \u001b[0m\u001b[38;5;100m}\u001b[0m",
      " \u001b[38;5;240m  │\u001b[0m     \u001b[38;5;100m┬\u001b[0m  ",
      " \u001b[38;5;240m  │\u001b[0m     \u001b[38;5;100m╰\u001b[0m\u001b[38;5;100m─\u001b[0m\u001b[38;5;100m─\u001b[0m `x` dropped here while still borrowed",
      " \u001b[38;5;246m7 │\u001b[0m \u001b[38;5;249m \u001b[0m\u001b[38;5;249m \u001b[0m\u001b[38;5;249m \u001b[0m\u001b[38;5;249m \u001b[0m\u001b[38;5;249mp\u001b[0m\u001b[38;5;249mr\u001b[0m\u001b[38;5;249mi\u001b[0m\u001b[38;5;249mn\u001b[0m\u001b[38;5;249mt\u001b[0m\u001b[38;5;249ml\u001b[0m\u001b[38;5;249mn\u001b[0m\u001b[38;5;249m!\u001b[0m\u001b[38;5;249m(\u001b[0m\u001b[38;5;249m\"\u001b[0m\u001b[38;5;249mr\u001b[0m\u001b[38;5;249m:\u001b[0m\u001b[38;5;249m \u001b[0m\u001b[38;5;249m{\u001b[0m\u001b[38;5;249m}\u001b[0m\u001b[38;5;249m\"\u001b[0m\u001b[38;5;249m,\u001b[0m\u001b[38;5;249m \u001b[0m\u001b[38;5;37mr\u001b[0m\u001b[38;5;249m)\u001b[0m\u001b[38;5;249m;\u001b[0m",
      " \u001b[38;5;240m  │\u001b[0m                       \u001b[38;5;37m┬\u001b[0m  ",
      " \u001b[38;5;240m  │\u001b[0m                       \u001b[38;5;37m╰\u001b[0m\u001b[38;5;37m─\u001b[0m\u001b[38;5;37m─\u001b[0m borrow later used here",
      "\u001b[38;5;246m───╯\u001b[0m"
     ]
    }
   ],
   "source": [
    "fn main() {\n",
    "    let r;\n",
    "    {\n",
    "        let x = 42;\n",
    "        r = &x;\n",
    "    }\n",
    "    println!(\"r: {}\", r);\n",
    "}\n",
    "\n",
    "main()"
   ]
  },
  {
   "cell_type": "markdown",
   "id": "523c632c-e041-4a81-b105-2b924b7c4b62",
   "metadata": {},
   "source": [
    "#### Data Races"
   ]
  },
  {
   "cell_type": "code",
   "execution_count": 7,
   "id": "6a938a11-c989-4556-ace8-a13a6cbcdb42",
   "metadata": {},
   "outputs": [
    {
     "ename": "Error",
     "evalue": "variable `r` is assigned to, but never used",
     "output_type": "error",
     "traceback": [
      "\u001b[31m[unused_variables] Error:\u001b[0m variable `r` is assigned to, but never used"
     ]
    },
    {
     "ename": "Error",
     "evalue": "value assigned to `r` is never read",
     "output_type": "error",
     "traceback": [
      "\u001b[31m[unused_assignments] Error:\u001b[0m value assigned to `r` is never read"
     ]
    },
    {
     "ename": "Error",
     "evalue": "borrow of moved value: `data`",
     "output_type": "error",
     "traceback": [
      "\u001b[31m[E0382] Error:\u001b[0m borrow of moved value: `data`",
      "    \u001b[38;5;246m╭\u001b[0m\u001b[38;5;246m─\u001b[0m\u001b[38;5;246m[\u001b[0mcommand_7:1:1\u001b[38;5;246m]\u001b[0m",
      "    \u001b[38;5;246m│\u001b[0m",
      " \u001b[38;5;246m 3 │\u001b[0m \u001b[38;5;249ml\u001b[0m\u001b[38;5;249me\u001b[0m\u001b[38;5;249mt\u001b[0m\u001b[38;5;249m \u001b[0m\u001b[38;5;37mm\u001b[0m\u001b[38;5;37mu\u001b[0m\u001b[38;5;37mt\u001b[0m\u001b[38;5;37m \u001b[0m\u001b[38;5;37md\u001b[0m\u001b[38;5;37ma\u001b[0m\u001b[38;5;37mt\u001b[0m\u001b[38;5;37ma\u001b[0m\u001b[38;5;249m \u001b[0m\u001b[38;5;249m=\u001b[0m\u001b[38;5;249m \u001b[0m\u001b[38;5;249mv\u001b[0m\u001b[38;5;249me\u001b[0m\u001b[38;5;249mc\u001b[0m\u001b[38;5;249m!\u001b[0m\u001b[38;5;249m[\u001b[0m\u001b[38;5;249m1\u001b[0m\u001b[38;5;249m,\u001b[0m\u001b[38;5;249m \u001b[0m\u001b[38;5;249m2\u001b[0m\u001b[38;5;249m,\u001b[0m\u001b[38;5;249m \u001b[0m\u001b[38;5;249m3\u001b[0m\u001b[38;5;249m]\u001b[0m\u001b[38;5;249m;\u001b[0m",
      " \u001b[38;5;240m   │\u001b[0m     \u001b[38;5;37m─\u001b[0m\u001b[38;5;37m─\u001b[0m\u001b[38;5;37m─\u001b[0m\u001b[38;5;37m─\u001b[0m\u001b[38;5;37m┬\u001b[0m\u001b[38;5;37m─\u001b[0m\u001b[38;5;37m─\u001b[0m\u001b[38;5;37m─\u001b[0m  ",
      " \u001b[38;5;240m   │\u001b[0m         \u001b[38;5;37m╰\u001b[0m\u001b[38;5;37m─\u001b[0m\u001b[38;5;37m─\u001b[0m\u001b[38;5;37m─\u001b[0m\u001b[38;5;37m─\u001b[0m\u001b[38;5;37m─\u001b[0m move occurs because `data` has type `Vec<i32>`, which does not implement the `Copy` trait",
      " \u001b[38;5;240m   │\u001b[0m ",
      " \u001b[38;5;246m 5 │\u001b[0m \u001b[38;5;249ml\u001b[0m\u001b[38;5;249me\u001b[0m\u001b[38;5;249mt\u001b[0m\u001b[38;5;249m \u001b[0m\u001b[38;5;249mh\u001b[0m\u001b[38;5;249ma\u001b[0m\u001b[38;5;249mn\u001b[0m\u001b[38;5;249md\u001b[0m\u001b[38;5;249ml\u001b[0m\u001b[38;5;249me\u001b[0m\u001b[38;5;249m1\u001b[0m\u001b[38;5;249m \u001b[0m\u001b[38;5;249m=\u001b[0m\u001b[38;5;249m \u001b[0m\u001b[38;5;249mt\u001b[0m\u001b[38;5;249mh\u001b[0m\u001b[38;5;249mr\u001b[0m\u001b[38;5;249me\u001b[0m\u001b[38;5;249ma\u001b[0m\u001b[38;5;249md\u001b[0m\u001b[38;5;249m:\u001b[0m\u001b[38;5;249m:\u001b[0m\u001b[38;5;249ms\u001b[0m\u001b[38;5;249mp\u001b[0m\u001b[38;5;249ma\u001b[0m\u001b[38;5;249mw\u001b[0m\u001b[38;5;249mn\u001b[0m\u001b[38;5;249m(\u001b[0m\u001b[38;5;54mm\u001b[0m\u001b[38;5;54mo\u001b[0m\u001b[38;5;54mv\u001b[0m\u001b[38;5;54me\u001b[0m\u001b[38;5;54m \u001b[0m\u001b[38;5;54m|\u001b[0m\u001b[38;5;54m|\u001b[0m\u001b[38;5;249m \u001b[0m\u001b[38;5;249m{\u001b[0m",
      " \u001b[38;5;240m   │\u001b[0m                             \u001b[38;5;54m─\u001b[0m\u001b[38;5;54m─\u001b[0m\u001b[38;5;54m─\u001b[0m\u001b[38;5;54m┬\u001b[0m\u001b[38;5;54m─\u001b[0m\u001b[38;5;54m─\u001b[0m\u001b[38;5;54m─\u001b[0m  ",
      " \u001b[38;5;240m   │\u001b[0m                                \u001b[38;5;54m╰\u001b[0m\u001b[38;5;54m─\u001b[0m\u001b[38;5;54m─\u001b[0m\u001b[38;5;54m─\u001b[0m\u001b[38;5;54m─\u001b[0m\u001b[38;5;54m─\u001b[0m value moved into closure here",
      " \u001b[38;5;246m 6 │\u001b[0m \u001b[38;5;249m \u001b[0m\u001b[38;5;249m \u001b[0m\u001b[38;5;249m \u001b[0m\u001b[38;5;249m \u001b[0m\u001b[38;5;100md\u001b[0m\u001b[38;5;100ma\u001b[0m\u001b[38;5;100mt\u001b[0m\u001b[38;5;100ma\u001b[0m\u001b[38;5;249m.\u001b[0m\u001b[38;5;249mp\u001b[0m\u001b[38;5;249mu\u001b[0m\u001b[38;5;249ms\u001b[0m\u001b[38;5;249mh\u001b[0m\u001b[38;5;249m(\u001b[0m\u001b[38;5;249m4\u001b[0m\u001b[38;5;249m)\u001b[0m\u001b[38;5;249m;\u001b[0m",
      " \u001b[38;5;240m   │\u001b[0m     \u001b[38;5;100m─\u001b[0m\u001b[38;5;100m─\u001b[0m\u001b[38;5;100m┬\u001b[0m\u001b[38;5;100m─\u001b[0m  ",
      " \u001b[38;5;240m   │\u001b[0m       \u001b[38;5;100m╰\u001b[0m\u001b[38;5;100m─\u001b[0m\u001b[38;5;100m─\u001b[0m\u001b[38;5;100m─\u001b[0m variable moved due to use in closure",
      " \u001b[38;5;240m   │\u001b[0m ",
      " \u001b[38;5;246m11 │\u001b[0m \u001b[38;5;249mp\u001b[0m\u001b[38;5;249mr\u001b[0m\u001b[38;5;249mi\u001b[0m\u001b[38;5;249mn\u001b[0m\u001b[38;5;249mt\u001b[0m\u001b[38;5;249ml\u001b[0m\u001b[38;5;249mn\u001b[0m\u001b[38;5;249m!\u001b[0m\u001b[38;5;249m(\u001b[0m\u001b[38;5;249m\"\u001b[0m\u001b[38;5;249m{\u001b[0m\u001b[38;5;249m:\u001b[0m\u001b[38;5;249m?\u001b[0m\u001b[38;5;249m}\u001b[0m\u001b[38;5;249m\"\u001b[0m\u001b[38;5;249m,\u001b[0m\u001b[38;5;249m \u001b[0m\u001b[38;5;68md\u001b[0m\u001b[38;5;68ma\u001b[0m\u001b[38;5;68mt\u001b[0m\u001b[38;5;68ma\u001b[0m\u001b[38;5;249m)\u001b[0m\u001b[38;5;249m;\u001b[0m",
      " \u001b[38;5;240m   │\u001b[0m                  \u001b[38;5;68m─\u001b[0m\u001b[38;5;68m─\u001b[0m\u001b[38;5;68m┬\u001b[0m\u001b[38;5;68m─\u001b[0m  ",
      " \u001b[38;5;240m   │\u001b[0m                    \u001b[38;5;68m╰\u001b[0m\u001b[38;5;68m─\u001b[0m\u001b[38;5;68m─\u001b[0m\u001b[38;5;68m─\u001b[0m value borrowed here after move",
      "\u001b[38;5;246m────╯\u001b[0m"
     ]
    }
   ],
   "source": [
    "use std::thread;\n",
    "\n",
    "let mut data = vec![1, 2, 3];\n",
    "\n",
    "let handle1 = thread::spawn(move || {\n",
    "    data.push(4);\n",
    "});\n",
    "\n",
    "handle1.join().unwrap();\n",
    "\n",
    "println!(\"{:?}\", data);"
   ]
  },
  {
   "cell_type": "markdown",
   "id": "1ee276a9-c379-429a-a74d-4d836c693fc5",
   "metadata": {},
   "source": [
    "#### Unsafe Code"
   ]
  },
  {
   "cell_type": "code",
   "execution_count": 8,
   "id": "f1d581b0-8e46-4140-b6e7-474e7cb0cb73",
   "metadata": {},
   "outputs": [
    {
     "name": "stdout",
     "output_type": "stream",
     "text": [
      "[2, 4, 6, 8, 10]\n"
     ]
    }
   ],
   "source": [
    "let mut numbers = vec![1, 2, 3, 4, 5];\n",
    "\n",
    "let mut_ptr = numbers.as_mut_ptr();\n",
    "\n",
    "let len = numbers.len();\n",
    "\n",
    "unsafe {\n",
    "    for i in 0..len {\n",
    "       let current_value = *mut_ptr.add(i);\n",
    "        *mut_ptr.add(i) = current_value * 2;\n",
    "    }\n",
    "}\n",
    "\n",
    "println!(\"{:?}\", numbers);"
   ]
  },
  {
   "cell_type": "markdown",
   "id": "6c249b08-e7b8-4827-9952-c9b9a1048f66",
   "metadata": {},
   "source": [
    "#### Resource Management"
   ]
  },
  {
   "cell_type": "code",
   "execution_count": 10,
   "id": "f2603982-adb7-4a18-90a0-85c59c3abc3f",
   "metadata": {},
   "outputs": [],
   "source": [
    "use std::fs::File;\n",
    "\n",
    "let file = File::create(\"example.txt\")?;\n",
    "\n",
    "// File will be automatically closed when it goes out of scope\n",
    "\n",
    "// Additional code for working with the file goes here"
   ]
  },
  {
   "cell_type": "markdown",
   "id": "ba4dbcec-92f0-4fbf-85a3-e74d0d66b424",
   "metadata": {},
   "source": [
    "### Stack vs. Heap"
   ]
  },
  {
   "cell_type": "markdown",
   "id": "2889c780-b0cc-4a0e-a870-e3bee387cc9f",
   "metadata": {},
   "source": [
    "#### The Stack's Role in Rust"
   ]
  },
  {
   "cell_type": "code",
   "execution_count": 11,
   "id": "8b0ef968-657a-4362-bf8b-b5094306a085",
   "metadata": {},
   "outputs": [
    {
     "name": "stdout",
     "output_type": "stream",
     "text": [
      "The answer is: 42\n"
     ]
    },
    {
     "data": {
      "text/plain": [
       "()"
      ]
     },
     "execution_count": 11,
     "metadata": {},
     "output_type": "execute_result"
    }
   ],
   "source": [
    "fn main() {\n",
    "    let x = 42;\n",
    "    println!(\"The answer is: {}\", x);\n",
    "}\n",
    "\n",
    "main()"
   ]
  },
  {
   "cell_type": "markdown",
   "id": "e2bc554b-f984-4947-ab26-99ac6f4d13b0",
   "metadata": {},
   "source": [
    "#### The Heap's Role in Rust"
   ]
  },
  {
   "cell_type": "code",
   "execution_count": 12,
   "id": "fc65b806-eb79-4b59-8597-32952b7858bf",
   "metadata": {},
   "outputs": [
    {
     "name": "stdout",
     "output_type": "stream",
     "text": [
      "Hello\n"
     ]
    },
    {
     "data": {
      "text/plain": [
       "()"
      ]
     },
     "execution_count": 12,
     "metadata": {},
     "output_type": "execute_result"
    }
   ],
   "source": [
    "fn main() {\n",
    "    let s1 = String::from(\"Hello\");\n",
    "    let s2 = s1;\n",
    "    println!(\"{}\", s2);\n",
    "}\n",
    "\n",
    "main()"
   ]
  },
  {
   "cell_type": "markdown",
   "id": "48c89816-170c-4217-8524-d4cd209a535e",
   "metadata": {},
   "source": [
    "#### The Ownership Model"
   ]
  },
  {
   "cell_type": "code",
   "execution_count": 13,
   "id": "44c76084-a061-4cb2-8a25-caf34a77a7bb",
   "metadata": {},
   "outputs": [
    {
     "name": "stdout",
     "output_type": "stream",
     "text": [
      "Rust\n"
     ]
    },
    {
     "data": {
      "text/plain": [
       "()"
      ]
     },
     "execution_count": 13,
     "metadata": {},
     "output_type": "execute_result"
    }
   ],
   "source": [
    "fn main() {\n",
    "    let s = String::from(\"Rust\");\n",
    "    println!(\"{}\", s);\n",
    "}\n",
    "\n",
    "main()"
   ]
  },
  {
   "attachments": {},
   "cell_type": "markdown",
   "id": "7306b9b9-c15c-4e28-a411-b4be216910cf",
   "metadata": {},
   "source": [
    "#### Borrowing in Rust"
   ]
  },
  {
   "cell_type": "code",
   "execution_count": 14,
   "id": "4ba6a1d5-e0ef-4806-92ee-036743f0dcc0",
   "metadata": {},
   "outputs": [
    {
     "name": "stdout",
     "output_type": "stream",
     "text": [
      "Length of 'Rust' is 4.\n"
     ]
    }
   ],
   "source": [
    "fn calculate_length(s: &String) -> usize {\n",
    "    s.len()\n",
    "}\n",
    "\n",
    "let s = String::from(\"Rust\");\n",
    "let len = calculate_length(&s);\n",
    "println!(\"Length of '{}' is {}.\", s, len);"
   ]
  },
  {
   "cell_type": "markdown",
   "id": "e1be15e8-2332-4c13-9ac3-a23c81d50c27",
   "metadata": {},
   "source": [
    "#### Lifetimes in Rust"
   ]
  },
  {
   "cell_type": "code",
   "execution_count": 24,
   "id": "55bb5ed3-ef2b-42f3-8c56-057ed83f97e5",
   "metadata": {},
   "outputs": [],
   "source": [
    ":dep thiserror = {version = \"1.0.50\"}"
   ]
  },
  {
   "cell_type": "code",
   "execution_count": 15,
   "id": "c55d0397-151c-4073-b2d6-4a967a526b6f",
   "metadata": {},
   "outputs": [
    {
     "name": "stdout",
     "output_type": "stream",
     "text": [
      "Length: 4\n"
     ]
    }
   ],
   "source": [
    "fn get_length(s: &String) -> usize {\n",
    "    s.len()\n",
    "}\n",
    "\n",
    "let result;\n",
    "{\n",
    "    let s = String::from(\"Rust\");\n",
    "    result = get_length(&s);\n",
    "}\n",
    "\n",
    "println!(\"Length: {}\", result);"
   ]
  },
  {
   "cell_type": "markdown",
   "id": "990062e2-a934-4776-b582-5c32845d718b",
   "metadata": {},
   "source": [
    "### Pointers & Smart Pointers"
   ]
  },
  {
   "cell_type": "markdown",
   "id": "cfeb1b77-4e17-4523-9cac-7616cf32049c",
   "metadata": {},
   "source": [
    "#### Box"
   ]
  },
  {
   "cell_type": "code",
   "execution_count": 17,
   "id": "457fb7f7-c557-4b61-99d6-4360eda707c3",
   "metadata": {},
   "outputs": [
    {
     "name": "stdout",
     "output_type": "stream",
     "text": [
      "The sum of the vector is: 15\n"
     ]
    },
    {
     "data": {
      "text/plain": [
       "()"
      ]
     },
     "execution_count": 17,
     "metadata": {},
     "output_type": "execute_result"
    }
   ],
   "source": [
    "fn main() {\n",
    "    let complex_data = Box::new(vec![1, 2, 3, 4, 5]);\n",
    "\n",
    "    let sum: i32 = complex_data.iter().sum();\n",
    "\n",
    "    println!(\"The sum of the vector is: {}\", sum);\n",
    "}\n",
    "\n",
    "main()"
   ]
  },
  {
   "cell_type": "markdown",
   "id": "ea77b6fb-cb20-4132-8248-df8c5a3e0e1a",
   "metadata": {
    "scrolled": true
   },
   "source": [
    "#### Rc"
   ]
  },
  {
   "cell_type": "code",
   "execution_count": 18,
   "id": "e4172db5-6c0e-4790-8aba-00b90e54a0c5",
   "metadata": {
    "scrolled": true
   },
   "outputs": [
    {
     "name": "stdout",
     "output_type": "stream",
     "text": [
      "Data: [1, 2, 3, 4, 5]\n",
      "Clone1: [1, 2, 3, 4, 5]\n",
      "Clone2: [1, 2, 3, 4, 5]\n"
     ]
    }
   ],
   "source": [
    "use std::rc::Rc;\n",
    "\n",
    "let data = Rc::new(vec![1, 2, 3, 4, 5]);\n",
    "\n",
    "let clone1 = Rc::clone(&data);\n",
    "let clone2 = Rc::clone(&data);\n",
    "\n",
    "let sum: i32 = data.iter().sum();\n",
    "\n",
    "println!(\"Data: {:?}\", data);\n",
    "println!(\"Clone1: {:?}\", clone1);\n",
    "println!(\"Clone2: {:?}\", clone2);"
   ]
  },
  {
   "cell_type": "markdown",
   "id": "90eaaae1-1b18-4c00-9ebf-425093bf9387",
   "metadata": {},
   "source": [
    "#### Arc"
   ]
  },
  {
   "cell_type": "code",
   "execution_count": 19,
   "id": "7d051921-9fff-4e37-b6bc-1761c2c303ab",
   "metadata": {},
   "outputs": [
    {
     "name": "stdout",
     "output_type": "stream",
     "text": [
      "Thread 1 - Sum of Data: 15\n",
      "Thread 2 - Product of Data: 120\n"
     ]
    }
   ],
   "source": [
    "use std::sync::Arc;\n",
    "use std::thread;\n",
    "\n",
    "let data = Arc::new(vec![1, 2, 3, 4, 5]);\n",
    "\n",
    "let clone1 = Arc::clone(&data);\n",
    "let clone2 = Arc::clone(&data);\n",
    "\n",
    "let handle1 = thread::spawn(move || {\n",
    "    let sum: i32 = clone1.iter().sum();\n",
    "    println!(\"Thread 1 - Sum of Data: {}\", sum);\n",
    "});\n",
    "\n",
    "let handle2 = thread::spawn(move || {\n",
    "    let product: i32 = clone2.iter().product();\n",
    "    println!(\"Thread 2 - Product of Data: {}\", product);\n",
    "});\n",
    "\n",
    "handle1.join().unwrap();\n",
    "handle2.join().unwrap();"
   ]
  },
  {
   "cell_type": "markdown",
   "id": "8fdd3d56-b398-43f3-9a15-f33c4374e050",
   "metadata": {},
   "source": [
    "#### RefCell"
   ]
  },
  {
   "cell_type": "code",
   "execution_count": 5,
   "id": "c8bb4de5-955b-4d45-b152-9785956af0cc",
   "metadata": {},
   "outputs": [
    {
     "name": "stdout",
     "output_type": "stream",
     "text": [
      "Modified Data: [1, 2, 3, 4]\n"
     ]
    },
    {
     "data": {
      "text/plain": [
       "()"
      ]
     },
     "execution_count": 5,
     "metadata": {},
     "output_type": "execute_result"
    }
   ],
   "source": [
    "use std::cell::RefCell;\n",
    "\n",
    "fn main() {\n",
    "    let data = RefCell::new(vec![1, 2, 3]);\n",
    "\n",
    "    let data_ref = data.borrow();\n",
    "\n",
    "    // data_ref.push(4);\n",
    "\n",
    "    drop(data_ref);\n",
    "\n",
    "    let mut data_ref_mut = data.borrow_mut();\n",
    "    data_ref_mut.push(4);\n",
    "\n",
    "    println!(\"Modified Data: {:?}\", *data_ref_mut);\n",
    "}\n",
    "\n",
    "main()"
   ]
  },
  {
   "cell_type": "code",
   "execution_count": 4,
   "id": "f51cf1d1-25ba-4f06-9806-69914e50a15a",
   "metadata": {},
   "outputs": [
    {
     "ename": "Error",
     "evalue": "cannot borrow data in dereference of `Ref<'_, Vec<i32>>` as mutable",
     "output_type": "error",
     "traceback": [
      "\u001b[31m[E0596] Error:\u001b[0m cannot borrow data in dereference of `Ref<'_, Vec<i32>>` as mutable",
      "   \u001b[38;5;246m╭\u001b[0m\u001b[38;5;246m─\u001b[0m\u001b[38;5;246m[\u001b[0mcommand_4:1:1\u001b[38;5;246m]\u001b[0m",
      "   \u001b[38;5;246m│\u001b[0m",
      " \u001b[38;5;246m7 │\u001b[0m \u001b[38;5;54md\u001b[0m\u001b[38;5;54ma\u001b[0m\u001b[38;5;54mt\u001b[0m\u001b[38;5;54ma\u001b[0m\u001b[38;5;54m_\u001b[0m\u001b[38;5;54mr\u001b[0m\u001b[38;5;54me\u001b[0m\u001b[38;5;54mf\u001b[0m\u001b[38;5;249m.\u001b[0m\u001b[38;5;249mp\u001b[0m\u001b[38;5;249mu\u001b[0m\u001b[38;5;249ms\u001b[0m\u001b[38;5;249mh\u001b[0m\u001b[38;5;249m(\u001b[0m\u001b[38;5;249m4\u001b[0m\u001b[38;5;249m)\u001b[0m\u001b[38;5;249m;\u001b[0m",
      " \u001b[38;5;240m  │\u001b[0m \u001b[38;5;54m─\u001b[0m\u001b[38;5;54m─\u001b[0m\u001b[38;5;54m─\u001b[0m\u001b[38;5;54m─\u001b[0m\u001b[38;5;54m┬\u001b[0m\u001b[38;5;54m─\u001b[0m\u001b[38;5;54m─\u001b[0m\u001b[38;5;54m─\u001b[0m  ",
      " \u001b[38;5;240m  │\u001b[0m     \u001b[38;5;54m╰\u001b[0m\u001b[38;5;54m─\u001b[0m\u001b[38;5;54m─\u001b[0m\u001b[38;5;54m─\u001b[0m\u001b[38;5;54m─\u001b[0m\u001b[38;5;54m─\u001b[0m cannot borrow as mutable",
      " \u001b[38;5;240m  │\u001b[0m ",
      " \u001b[38;5;240m  │\u001b[0m \u001b[38;5;115mNote\u001b[0m: You can change an existing variable to mutable like: `let mut x = x;`",
      "\u001b[38;5;246m───╯\u001b[0m"
     ]
    },
    {
     "ename": "Error",
     "evalue": "The variable `data_ref_mut` contains a reference with a non-static lifetime so\ncan't be persisted. You can prevent this error by making sure that the\nvariable goes out of scope - i.e. wrapping the code in {}.",
     "output_type": "error",
     "traceback": [
      "\u001b[31mError:\u001b[0m The variable `data_ref_mut` contains a reference with a non-static lifetime so",
      "can't be persisted. You can prevent this error by making sure that the",
      "variable goes out of scope - i.e. wrapping the code in {}."
     ]
    }
   ],
   "source": [
    "use std::cell::RefCell;\n",
    "\n",
    "let data = RefCell::new(vec![1, 2, 3]);\n",
    "\n",
    "let data_ref = data.borrow();\n",
    "\n",
    "data_ref.push(4);\n",
    "\n",
    "drop(data_ref);\n",
    "\n",
    "let mut data_ref_mut = data.borrow_mut();\n",
    "data_ref_mut.push(4);\n",
    "\n",
    "println!(\"Modified Data: {:?}\", *data_ref_mut);"
   ]
  },
  {
   "cell_type": "markdown",
   "id": "eb10bda8-4d7e-40fb-9793-8fa41dcc8946",
   "metadata": {},
   "source": [
    "#### Mutex"
   ]
  },
  {
   "cell_type": "code",
   "execution_count": 23,
   "id": "5ca90d9e-f9cb-4e93-85c1-dc2700a910dc",
   "metadata": {},
   "outputs": [
    {
     "name": "stdout",
     "output_type": "stream",
     "text": [
      "Account1 - Balance: 70.00\n",
      "Account0 - Balance: 70.00\n",
      "Account3 - Balance: 70.00\n",
      "Account4 - Balance: 70.00\n",
      "Account2 - Balance: 70.00\n"
     ]
    },
    {
     "data": {
      "text/plain": [
       "()"
      ]
     },
     "execution_count": 23,
     "metadata": {},
     "output_type": "execute_result"
    }
   ],
   "source": [
    "use std::sync::{Mutex, Arc};\n",
    "use std::thread;\n",
    "use std::time::Duration;\n",
    "use std::collections::HashMap;\n",
    "\n",
    "struct Bank {\n",
    "    accounts: Mutex<HashMap<String, f64>>,\n",
    "}\n",
    "\n",
    "impl Bank {\n",
    "    fn new() -> Self {\n",
    "        Bank {\n",
    "            accounts: Mutex::new(HashMap::new()),\n",
    "        }\n",
    "    }\n",
    "\n",
    "    fn deposit(&self, account: &str, amount: f64) {\n",
    "        let mut accounts = self.accounts.lock().unwrap();\n",
    "        let balance = accounts.entry(account.to_string()).or_insert(0.0);\n",
    "        *balance += amount;\n",
    "    }\n",
    "\n",
    "    fn withdraw(&self, account: &str, amount: f64) {\n",
    "        let mut accounts = self.accounts.lock().unwrap();\n",
    "        let balance = accounts.entry(account.to_string()).or_insert(0.0);\n",
    "        if *balance >= amount {\n",
    "            *balance -= amount;\n",
    "        } else {\n",
    "            println!(\"Insufficient funds for account: {}\", account);\n",
    "        }\n",
    "    }\n",
    "\n",
    "    fn check_balance(&self, account: &str) -> f64 {\n",
    "        let accounts = self.accounts.lock().unwrap();\n",
    "        *accounts.get(account).unwrap_or(&0.0)\n",
    "    }\n",
    "}\n",
    "\n",
    "let bank = Arc::new(Bank::new());\n",
    "let mut handles = vec![];\n",
    "\n",
    "for i in 0..5 {\n",
    "    let bank_clone = Arc::clone(&bank);\n",
    "    let handle = thread::spawn(move || {\n",
    "        let account = format!(\"Account{}\", i);\n",
    "        bank_clone.deposit(&account, 100.0);\n",
    "        thread::sleep(Duration::from_millis(100)); // Simulate other work\n",
    "        bank_clone.withdraw(&account, 30.0);\n",
    "        let balance = bank_clone.check_balance(&account);\n",
    "        println!(\"{} - Balance: {:.2}\", account, balance);\n",
    "    });\n",
    "    handles.push(handle);\n",
    "}\n",
    "\n",
    "for handle in handles {\n",
    "    handle.join().unwrap();\n",
    "}"
   ]
  },
  {
   "cell_type": "markdown",
   "id": "f0b03231-6548-4cd8-af2e-a0a8592f0dd9",
   "metadata": {},
   "source": [
    "#### RwLock"
   ]
  },
  {
   "cell_type": "code",
   "execution_count": 29,
   "id": "94b26518-3d6c-4894-bc20-0d27a9ee80e5",
   "metadata": {},
   "outputs": [
    {
     "name": "stdout",
     "output_type": "stream",
     "text": [
      "Account1 - Balance: 70.00\n",
      "Account0 - Balance: 70.00\n",
      "Account2 - Balance: 70.00\n",
      "Account3 - Balance: 70.00\n",
      "Account4 - Balance: 70.00\n"
     ]
    },
    {
     "data": {
      "text/plain": [
       "()"
      ]
     },
     "execution_count": 29,
     "metadata": {},
     "output_type": "execute_result"
    }
   ],
   "source": [
    "use std::sync::{Arc, RwLock};\n",
    "use std::thread;\n",
    "use std::time::Duration;\n",
    "use std::collections::HashMap;\n",
    "\n",
    "struct Bank {\n",
    "    accounts: RwLock<HashMap<String, f64>>,\n",
    "}\n",
    "\n",
    "impl Bank {\n",
    "    fn new() -> Self {\n",
    "        Bank {\n",
    "            accounts: RwLock::new(HashMap::new()),\n",
    "        }\n",
    "    }\n",
    "\n",
    "    fn deposit(&self, account: &str, amount: f64) {\n",
    "        let mut accounts = self.accounts.write().unwrap();\n",
    "        let balance = accounts.entry(account.to_string()).or_insert(0.0);\n",
    "        *balance += amount;\n",
    "    }\n",
    "\n",
    "    fn withdraw(&self, account: &str, amount: f64) {\n",
    "        let mut accounts = self.accounts.write().unwrap();\n",
    "        let balance = accounts.entry(account.to_string()).or_insert(0.0);\n",
    "        if *balance >= amount {\n",
    "            *balance -= amount;\n",
    "        } else {\n",
    "            println!(\"Insufficient funds for account: {}\", account);\n",
    "        }\n",
    "    }\n",
    "\n",
    "    fn check_balance(&self, account: &str) -> f64 {\n",
    "        let accounts = self.accounts.read().unwrap();\n",
    "        *accounts.get(account).unwrap_or(&0.0)\n",
    "    }\n",
    "}\n",
    "\n",
    "let bank = Arc::new(Bank::new());\n",
    "let mut handles = vec![];\n",
    "\n",
    "for i in 0..5 {\n",
    "    let bank_clone = Arc::clone(&bank);\n",
    "    let handle = thread::spawn(move || {\n",
    "        let account = format!(\"Account{}\", i);\n",
    "        bank_clone.deposit(&account, 100.0);\n",
    "        thread::sleep(Duration::from_millis(100)); // Simulate other work\n",
    "        bank_clone.withdraw(&account, 30.0);\n",
    "        let balance = bank_clone.check_balance(&account);\n",
    "        println!(\"{} - Balance: {:.2}\", account, balance);\n",
    "    });\n",
    "    handles.push(handle);\n",
    "}\n",
    "\n",
    "for handle in handles {\n",
    "    handle.join().unwrap();\n",
    "}\n",
    "\n",
    "// TODO: investigate why it throws a seg fault once."
   ]
  },
  {
   "cell_type": "markdown",
   "id": "d3535c93-0c83-49ed-be45-0e6b8e42cf4e",
   "metadata": {},
   "source": [
    "#### Atomic"
   ]
  },
  {
   "cell_type": "code",
   "execution_count": 30,
   "id": "fd8bc541-e8e0-4558-aefd-0e76951bb14a",
   "metadata": {},
   "outputs": [
    {
     "name": "stdout",
     "output_type": "stream",
     "text": [
      "Atomic flag is set to true.\n"
     ]
    }
   ],
   "source": [
    "use std::sync::atomic::{AtomicBool, Ordering};\n",
    "use std::sync::Arc;\n",
    "use std::thread;\n",
    "\n",
    "let atomic_flag = Arc::new(AtomicBool::new(false));\n",
    "\n",
    "let atomic_flag_clone = Arc::clone(&atomic_flag);\n",
    "\n",
    "let thread_handle = thread::spawn(move || {\n",
    "    thread::sleep(std::time::Duration::from_secs(1));\n",
    "    atomic_flag_clone.store(true, Ordering::Relaxed);\n",
    "});\n",
    "\n",
    "while !atomic_flag.load(Ordering::Relaxed) {\n",
    "    // Do some work...\n",
    "}\n",
    "\n",
    "thread_handle.join().unwrap();\n",
    "\n",
    "println!(\"Atomic flag is set to true.\");"
   ]
  },
  {
   "cell_type": "markdown",
   "id": "25bc57f4-b032-47b2-9552-a7a371033a42",
   "metadata": {},
   "source": [
    "### Unsafe Rust"
   ]
  },
  {
   "cell_type": "markdown",
   "id": "a6a278ba-c2e5-4273-b41f-f685c1a8007c",
   "metadata": {},
   "source": [
    "#### Unsafe Functions"
   ]
  },
  {
   "cell_type": "code",
   "execution_count": 31,
   "id": "b047fd33-aaa0-4385-910c-fdfa3be1dc6a",
   "metadata": {},
   "outputs": [
    {
     "name": "stdout",
     "output_type": "stream",
     "text": [
      "The value at raw_ptr: 42\n"
     ]
    },
    {
     "data": {
      "text/plain": [
       "()"
      ]
     },
     "execution_count": 31,
     "metadata": {},
     "output_type": "execute_result"
    }
   ],
   "source": [
    "let mut x = 42;\n",
    "let raw_ptr: *const i32 = &x;\n",
    "\n",
    "unsafe {\n",
    "    println!(\"The value at raw_ptr: {}\", *raw_ptr);\n",
    "}"
   ]
  },
  {
   "cell_type": "markdown",
   "id": "fc7567a9-1982-47ae-b85e-d1c254eec691",
   "metadata": {},
   "source": [
    "#### Unsafe Traits"
   ]
  },
  {
   "cell_type": "code",
   "execution_count": 32,
   "id": "6dce2b1b-6c6a-43a6-a089-db0eb6a4939a",
   "metadata": {},
   "outputs": [
    {
     "data": {
      "text/plain": [
       "42"
      ]
     },
     "execution_count": 32,
     "metadata": {},
     "output_type": "execute_result"
    }
   ],
   "source": [
    "struct MyBox<T>(T);\n",
    "\n",
    "impl<T> MyBox<T> {\n",
    "    fn new(x: T) -> MyBox<T> {\n",
    "        MyBox(x)\n",
    "    }\n",
    "}\n",
    "\n",
    "use std::ops::Deref;\n",
    "\n",
    "impl<T> Deref for MyBox<T> {\n",
    "    type Target = T;\n",
    "\n",
    "    fn deref(&self) -> &T {\n",
    "        &self.0\n",
    "    }\n",
    "}\n",
    "\n",
    "let my_box = MyBox::new(42);\n",
    "*my_box"
   ]
  },
  {
   "cell_type": "markdown",
   "id": "1335e001-d368-4083-aa41-8a2fb6f9ba98",
   "metadata": {},
   "source": [
    "#### Custom Unsafe Abstractions"
   ]
  },
  {
   "cell_type": "code",
   "execution_count": 33,
   "id": "bfe5dcc4-55cb-46f1-8bfb-956fa706fcd9",
   "metadata": {},
   "outputs": [],
   "source": [
    "mod custom_device {\n",
    "    pub struct HardwareDevice {\n",
    "        // Fields specific to the hardware device\n",
    "    }\n",
    "\n",
    "    impl HardwareDevice {\n",
    "        pub fn new() -> Self {\n",
    "            // Initialize and configure the hardware device\n",
    "            Self {\n",
    "                // Initialize fields here\n",
    "            }\n",
    "        }\n",
    "\n",
    "        pub fn perform_unsafe_operation(&self) {\n",
    "            // Perform low-level operations that require `unsafe` Rust\n",
    "        }\n",
    "    }\n",
    "}\n",
    "\n",
    "let device = custom_device::HardwareDevice::new();\n",
    "\n",
    "// Interact with the hardware device safely\n",
    "device.perform_unsafe_operation();"
   ]
  },
  {
   "cell_type": "markdown",
   "id": "45ddb05b-f78a-4035-b499-649455b00ff9",
   "metadata": {},
   "source": [
    "#### Lifetime Annotations"
   ]
  },
  {
   "cell_type": "code",
   "execution_count": 38,
   "id": "31f412f4-7821-44d4-b30f-e26041d88f9c",
   "metadata": {},
   "outputs": [
    {
     "name": "stdout",
     "output_type": "stream",
     "text": [
      "The longest string is: world!\n"
     ]
    }
   ],
   "source": [
    "fn longest<'a>(s1: &'a str, s2: &'a str) -> &'a str {\n",
    "    if s1.len() > s2.len() {\n",
    "        s1\n",
    "    } else {\n",
    "        s2\n",
    "    }\n",
    "}\n",
    "\n",
    "let s1 = \"Hello,\";\n",
    "let s2 = \"world!\";\n",
    "\n",
    "let longest_string = longest(s1, s2);\n",
    "\n",
    "println!(\"The longest string is: {}\", longest_string);"
   ]
  },
  {
   "cell_type": "markdown",
   "id": "4ee042f1-1a64-42b6-9d93-a67524e2bc24",
   "metadata": {},
   "source": [
    "#### Custom Memory Allocators"
   ]
  },
  {
   "cell_type": "code",
   "execution_count": 40,
   "id": "47bed9ec-e57b-467d-a767-89c7211462c0",
   "metadata": {},
   "outputs": [
    {
     "name": "stdout",
     "output_type": "stream",
     "text": [
      "Allocated memory at 0x7f3742c55011\n"
     ]
    },
    {
     "data": {
      "text/plain": [
       "()"
      ]
     },
     "execution_count": 40,
     "metadata": {},
     "output_type": "execute_result"
    }
   ],
   "source": [
    "use std::alloc::{GlobalAlloc, Layout};\n",
    "use std::ptr;\n",
    "\n",
    "struct MyAllocator;\n",
    "\n",
    "unsafe impl GlobalAlloc for MyAllocator {\n",
    "    unsafe fn alloc(&self, layout: Layout) -> *mut u8 {\n",
    "        // Implement custom allocation logic here\n",
    "        // Return a pointer to the allocated memory\n",
    "        let size = layout.size();\n",
    "        if size == 0 {\n",
    "            return ptr::null_mut();\n",
    "        }\n",
    "\n",
    "        // For demonstration purposes, we'll use a simple global memory buffer\n",
    "        // This is just an example and not suitable for production use\n",
    "        static mut MEMORY: [u8; 4096] = [0; 4096];\n",
    "        static mut NEXT: usize = 0;\n",
    "\n",
    "        let align = layout.align();\n",
    "        let aligned_next = (NEXT + align - 1) & !(align - 1);\n",
    "        if aligned_next + size <= MEMORY.len() {\n",
    "            NEXT = aligned_next + size;\n",
    "            &mut MEMORY[aligned_next] as *mut u8\n",
    "        } else {\n",
    "            ptr::null_mut()\n",
    "        }\n",
    "    }\n",
    "\n",
    "    unsafe fn dealloc(&self, _ptr: *mut u8, _layout: Layout) {\n",
    "        // Implement custom deallocation logic here\n",
    "        // This allocator does not support deallocation in this example\n",
    "    }\n",
    "}\n",
    "\n",
    "#[global_allocator]\n",
    "static GLOBAL_ALLOCATOR: MyAllocator = MyAllocator;\n",
    "\n",
    "// Allocate memory using our custom allocator\n",
    "let size = 64;\n",
    "let layout = Layout::from_size_align(size, 8).unwrap();\n",
    "let ptr = unsafe { GLOBAL_ALLOCATOR.alloc(layout) };\n",
    "\n",
    "if !ptr.is_null() {\n",
    "    println!(\"Allocated memory at {:?}\", ptr);\n",
    "} else {\n",
    "    println!(\"Allocation failed\");\n",
    "}\n",
    "\n",
    "// Deallocate memory (not supported in this example)"
   ]
  },
  {
   "cell_type": "markdown",
   "id": "9d6c1b49-a109-4a19-b529-b4915509a913",
   "metadata": {},
   "source": [
    "---\n",
    "---"
   ]
  }
 ],
 "metadata": {
  "kernelspec": {
   "display_name": "Rust",
   "language": "rust",
   "name": "rust"
  },
  "language_info": {
   "codemirror_mode": "rust",
   "file_extension": ".rs",
   "mimetype": "text/rust",
   "name": "Rust",
   "pygment_lexer": "rust",
   "version": ""
  }
 },
 "nbformat": 4,
 "nbformat_minor": 5
}
