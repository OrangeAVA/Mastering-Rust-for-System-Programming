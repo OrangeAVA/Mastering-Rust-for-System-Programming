{
 "cells": [
  {
   "cell_type": "markdown",
   "id": "8c92f360-ca8e-4fb5-b2d7-5bc1a58faa78",
   "metadata": {},
   "source": [
    "# Google Colab Rust Setup\n",
    "\n",
    "The following cell is used to set up and spin up a Jupyter Notebook environment with a Rust kernel using Nix and IPC Proxy. "
   ]
  },
  {
   "cell_type": "code",
   "execution_count": null,
   "id": "ee944c2c-b533-4276-80a8-b3644c529bde",
   "metadata": {},
   "outputs": [],
   "source": [
    "!wget -qO- https://gist.github.com/wiseaidev/2af6bef753d48565d11bcd478728c979/archive/3f6df40db09f3517ade41997b541b81f0976c12e.tar.gz | tar xvz --strip-components=1\n",
    "!bash setup_evcxr_kernel.sh"
   ]
  },
  {
   "cell_type": "markdown",
   "id": "60c8d72c-b011-4360-b368-d540b8d7361a",
   "metadata": {},
   "source": [
    "# Unsafe Code in Rust"
   ]
  },
  {
   "cell_type": "markdown",
   "id": "fd437cfa-f913-4465-9d30-eaef552d861f",
   "metadata": {},
   "source": [
    "### Introduction to Unsafe Code"
   ]
  },
  {
   "cell_type": "code",
   "execution_count": 3,
   "id": "e93816e8-c065-4dad-84dc-861b6746fd52",
   "metadata": {},
   "outputs": [
    {
     "name": "stdout",
     "output_type": "stream",
     "text": [
      "This is safe code: 42\n",
      "Unsafe raw pointer value: 42\n"
     ]
    },
    {
     "data": {
      "text/plain": [
       "()"
      ]
     },
     "execution_count": 3,
     "metadata": {},
     "output_type": "execute_result"
    }
   ],
   "source": [
    "let safe_variable = 42;\n",
    "\n",
    "println!(\"This is safe code: {}\", safe_variable);\n",
    "\n",
    "unsafe {\n",
    "     let raw_pointer: *const i32 = &safe_variable;\n",
    "     println!(\"Unsafe raw pointer value: {}\", *raw_pointer);\n",
    "}"
   ]
  },
  {
   "cell_type": "markdown",
   "id": "a5865423-115b-4959-b352-e0a4027e3a51",
   "metadata": {},
   "source": [
    "### Balancing Performance and Safety Considerations"
   ]
  },
  {
   "cell_type": "code",
   "execution_count": 5,
   "id": "bc8a66bb-490a-4cf2-8145-516249bd3091",
   "metadata": {},
   "outputs": [
    {
     "name": "stdout",
     "output_type": "stream",
     "text": [
      "Value: 1\n",
      "Value: 2\n",
      "Value: 3\n",
      "Value: 4\n",
      "Value: 5\n",
      "Value at index 0: 1\n",
      "Value at index 1: 2\n",
      "Value at index 2: 3\n",
      "Value at index 3: 4\n",
      "Value at index 4: 5\n"
     ]
    },
    {
     "data": {
      "text/plain": [
       "()"
      ]
     },
     "execution_count": 5,
     "metadata": {},
     "output_type": "execute_result"
    }
   ],
   "source": [
    "let data = vec![1, 2, 3, 4, 5];\n",
    "\n",
    "for &value in &data {\n",
    "    println!(\"Value: {}\", value);\n",
    "}\n",
    "\n",
    "unsafe {\n",
    "    let raw_pointer = data.as_ptr();\n",
    "    for i in 0..data.len() {\n",
    "        println!(\"Value at index {}: {}\", i, *raw_pointer.add(i));\n",
    "    }\n",
    "}"
   ]
  },
  {
   "cell_type": "markdown",
   "id": "543b00c3-974c-40fe-b6b3-5dff44d68822",
   "metadata": {},
   "source": [
    "## Real-World Examples"
   ]
  },
  {
   "cell_type": "markdown",
   "id": "44008c8b-ae2f-43b9-bf78-ffcbba3d3a5c",
   "metadata": {},
   "source": [
    "### Example 1: Database Interaction using FFI"
   ]
  },
  {
   "cell_type": "code",
   "execution_count": 7,
   "id": "e92dbe02-7fed-4484-bd48-b467904d60fe",
   "metadata": {},
   "outputs": [],
   "source": [
    ":dep rusqlite = {version=\"0.30.0\"}"
   ]
  },
  {
   "cell_type": "code",
   "execution_count": 8,
   "id": "66927718-d806-4881-9d5b-b26881aa19a9",
   "metadata": {},
   "outputs": [
    {
     "name": "stdout",
     "output_type": "stream",
     "text": [
      "SQLite database connection result: 0\n",
      "SQLite database pointer: 0x555f4ab00fe8\n",
      "Create table result: 0\n",
      "Create table error message pointer: 0x0\n",
      "Insert data result: 0\n",
      "Insert data error message pointer: 0x0\n",
      "Row Data in Callback: [\"1\", \"Mahmoud Harmouch\"]\n",
      "Select data result: 0\n",
      "Select data error message pointer: 0x0\n",
      "SQLite database connection closed\n"
     ]
    },
    {
     "data": {
      "text/plain": [
       "()"
      ]
     },
     "execution_count": 8,
     "metadata": {},
     "output_type": "execute_result"
    }
   ],
   "source": [
    "unsafe extern \"C\" fn select_data_callback(\n",
    "    data: *mut std::ffi::c_void,\n",
    "    columns: i32,\n",
    "    values: *mut *mut i8,\n",
    "    _names: *mut *mut i8,\n",
    ") -> i32 {\n",
    "    let data = data as *mut Vec<Vec<String>>;\n",
    "\n",
    "    let mut row_data = Vec::new();\n",
    "    for i in 0..columns {\n",
    "        let value = std::ffi::CStr::from_ptr(*values.offset(i as isize)).to_string_lossy();\n",
    "        row_data.push(value.into_owned());\n",
    "    }\n",
    "\n",
    "    println!(\"Row Data in Callback: {:?}\", row_data);\n",
    "\n",
    "    let data = &mut *data;\n",
    "    data.push(row_data);\n",
    "\n",
    "    0 // Continue processing rows\n",
    "}\n",
    "\n",
    "fn advanced_database_interaction() {\n",
    "    unsafe {\n",
    "        let mut db: *mut rusqlite::ffi::sqlite3 = std::ptr::null_mut();\n",
    "        let result = rusqlite::ffi::sqlite3_open(\":memory:\\0\".as_ptr() as *const i8, &mut db);\n",
    "        println!(\"SQLite database connection result: {}\", result);\n",
    "        println!(\"SQLite database pointer: {:p}\", db);\n",
    "\n",
    "        if result != rusqlite::ffi::SQLITE_OK {\n",
    "            println!(\"Error opening SQLite database\");\n",
    "            return;\n",
    "        }\n",
    "\n",
    "        let create_table_query =\n",
    "            \"CREATE TABLE IF NOT EXISTS users (id INTEGER PRIMARY KEY, name TEXT);\\0\";\n",
    "        let create_table_query_ptr = create_table_query.as_ptr() as *const i8;\n",
    "        let mut create_table_err_msg: *mut i8 = std::ptr::null_mut();\n",
    "        let create_table_result = rusqlite::ffi::sqlite3_exec(\n",
    "            db,\n",
    "            create_table_query_ptr,\n",
    "            None,\n",
    "            std::ptr::null_mut(),\n",
    "            &mut create_table_err_msg,\n",
    "        );\n",
    "\n",
    "        println!(\"Create table result: {}\", create_table_result);\n",
    "        println!(\n",
    "            \"Create table error message pointer: {:p}\",\n",
    "            create_table_err_msg\n",
    "        );\n",
    "\n",
    "        if create_table_result != rusqlite::ffi::SQLITE_OK {\n",
    "            println!(\"Error creating table: {:?}\", create_table_err_msg);\n",
    "            rusqlite::ffi::sqlite3_free(create_table_err_msg as *mut std::ffi::c_void);\n",
    "            return;\n",
    "        }\n",
    "\n",
    "        let insert_data_query = \"INSERT INTO users (name) VALUES ('Mahmoud Harmouch');\\0\";\n",
    "        let insert_data_query_ptr = insert_data_query.as_ptr() as *const i8;\n",
    "        let mut insert_data_err_msg: *mut i8 = std::ptr::null_mut();\n",
    "        let insert_data_result = rusqlite::ffi::sqlite3_exec(\n",
    "            db,\n",
    "            insert_data_query_ptr,\n",
    "            None,\n",
    "            std::ptr::null_mut(),\n",
    "            &mut insert_data_err_msg,\n",
    "        );\n",
    "\n",
    "        println!(\"Insert data result: {}\", insert_data_result);\n",
    "        println!(\n",
    "            \"Insert data error message pointer: {:p}\",\n",
    "            insert_data_err_msg\n",
    "        );\n",
    "\n",
    "        if insert_data_result != rusqlite::ffi::SQLITE_OK {\n",
    "            println!(\"Error inserting data: {:?}\", insert_data_err_msg);\n",
    "            rusqlite::ffi::sqlite3_free(insert_data_err_msg as *mut std::ffi::c_void);\n",
    "            return;\n",
    "        }\n",
    "\n",
    "        let select_data_query = \"SELECT * FROM users;\\0\";\n",
    "        let select_data_query_ptr = select_data_query.as_ptr() as *const i8;\n",
    "        let mut select_data_err_msg: *mut i8 = std::ptr::null_mut();\n",
    "        let mut select_data_result: Vec<Vec<String>> = Vec::new();\n",
    "        let select_data_callback = Some(\n",
    "            select_data_callback\n",
    "                as unsafe extern \"C\" fn(\n",
    "                    *mut std::ffi::c_void,\n",
    "                    i32,\n",
    "                    *mut *mut i8,\n",
    "                    *mut *mut i8,\n",
    "                ) -> i32,\n",
    "        );\n",
    "        let data_ptr = &mut select_data_result as *mut Vec<Vec<String>> as *mut std::ffi::c_void;\n",
    "        let select_data_result = rusqlite::ffi::sqlite3_exec(\n",
    "            db,\n",
    "            select_data_query_ptr,\n",
    "            select_data_callback,\n",
    "            data_ptr,\n",
    "            &mut select_data_err_msg,\n",
    "        );\n",
    "\n",
    "        println!(\"Select data result: {}\", select_data_result);\n",
    "        println!(\n",
    "            \"Select data error message pointer: {:p}\",\n",
    "            select_data_err_msg\n",
    "        );\n",
    "\n",
    "        if select_data_result != rusqlite::ffi::SQLITE_OK {\n",
    "            println!(\"Error selecting data: {:?}\", select_data_err_msg);\n",
    "            rusqlite::ffi::sqlite3_free(select_data_err_msg as *mut std::ffi::c_void);\n",
    "            return;\n",
    "        }\n",
    "\n",
    "        rusqlite::ffi::sqlite3_close(db);\n",
    "        println!(\"SQLite database connection closed\");\n",
    "    }\n",
    "}\n",
    "\n",
    "advanced_database_interaction()"
   ]
  },
  {
   "cell_type": "markdown",
   "id": "39595612-4487-4e46-aa59-f82c600ec883",
   "metadata": {},
   "source": [
    "### Example 2: Advanced Image Processing with OpenCV"
   ]
  },
  {
   "cell_type": "code",
   "execution_count": 9,
   "id": "ae92bd7d-9965-49a9-b830-35dcbe9d4c59",
   "metadata": {},
   "outputs": [],
   "source": [
    ":dep opencv = {version=\"0.88.1\"}"
   ]
  },
  {
   "cell_type": "code",
   "execution_count": 10,
   "id": "e2f118eb-8500-45ac-a3e5-55c881cd28ea",
   "metadata": {},
   "outputs": [
    {
     "name": "stdout",
     "output_type": "stream",
     "text": [
      "Original Image: Rows=480, Cols=640, Channels=3\n",
      "Image after Gaussian Blur: Rows=480, Cols=640, Channels=3\n",
      "Image after Grayscale Conversion: Rows=480, Cols=640, Channels=1\n",
      "Image after Canny Edge Detection: Rows=480, Cols=640, Channels=1\n"
     ]
    },
    {
     "data": {
      "text/plain": [
       "()"
      ]
     },
     "execution_count": 10,
     "metadata": {},
     "output_type": "execute_result"
    }
   ],
   "source": [
    "extern crate opencv;\n",
    "\n",
    "use opencv::prelude::MatTraitConst;\n",
    "use opencv::core::{BORDER_DEFAULT, CV_8UC3};\n",
    "use std::ffi::c_void;\n",
    "\n",
    "fn image_processing() {\n",
    "    unsafe {\n",
    "        // Create sample data\n",
    "        let sample_data: Vec<u8> = vec![0; 480 * 640 * 3]; // Assuming 3 channels\n",
    "\n",
    "        let mut image: opencv::core::Mat = opencv::core::Mat::new_rows_cols_with_data(\n",
    "            480, 640, CV_8UC3, sample_data.as_ptr() as *mut c_void, 0,\n",
    "        ).unwrap();\n",
    "\n",
    "        println!(\n",
    "            \"Original Image: Rows={}, Cols={}, Channels={}\",\n",
    "            image.rows(),\n",
    "            image.cols(),\n",
    "            image.channels()\n",
    "        );\n",
    "\n",
    "        let mut blurred_image = opencv::core::Mat::default();\n",
    "        opencv::imgproc::blur(\n",
    "            &image,\n",
    "            &mut blurred_image,\n",
    "            opencv::core::Size::new(5, 5),\n",
    "            opencv::core::Point::new(2, 2),\n",
    "            BORDER_DEFAULT,\n",
    "        )\n",
    "        .unwrap();\n",
    "\n",
    "        // Move the temporary variable back to the original variable\n",
    "        std::mem::swap(&mut image, &mut blurred_image);\n",
    "\n",
    "        println!(\n",
    "            \"Image after Gaussian Blur: Rows={}, Cols={}, Channels={}\",\n",
    "            image.rows(),\n",
    "            image.cols(),\n",
    "            image.channels()\n",
    "        );\n",
    "\n",
    "        let mut gray_image = opencv::core::Mat::default();\n",
    "        opencv::imgproc::cvt_color(\n",
    "            &image,\n",
    "            &mut gray_image,\n",
    "            opencv::imgproc::COLOR_BGR2GRAY,\n",
    "            0,\n",
    "        )\n",
    "        .unwrap();\n",
    "\n",
    "        // Move the temporary variable back to the original variable\n",
    "        std::mem::swap(&mut image, &mut gray_image);\n",
    "\n",
    "        println!(\n",
    "            \"Image after Grayscale Conversion: Rows={}, Cols={}, Channels={}\",\n",
    "            image.rows(),\n",
    "            image.cols(),\n",
    "            image.channels()\n",
    "        );\n",
    "\n",
    "        // Canny edge detection with a temporary variable\n",
    "        let mut canny_image = opencv::core::Mat::default();\n",
    "        opencv::imgproc::canny(\n",
    "            &image,\n",
    "            &mut canny_image,\n",
    "            50.0,\n",
    "            150.0,\n",
    "            3,\n",
    "            false,\n",
    "        )\n",
    "        .unwrap();\n",
    "\n",
    "        // Move the temporary variable back to the original variable\n",
    "        std::mem::swap(&mut image, &mut canny_image);\n",
    "\n",
    "        println!(\n",
    "            \"Image after Canny Edge Detection: Rows={}, Cols={}, Channels={}\",\n",
    "            image.rows(),\n",
    "            image.cols(),\n",
    "            image.channels()\n",
    "        );\n",
    "    }\n",
    "}\n",
    "\n",
    "image_processing()"
   ]
  },
  {
   "cell_type": "markdown",
   "id": "10d87fe4-f96e-4fcd-9bc9-4bab2328deba",
   "metadata": {},
   "source": [
    "### Example 3: Custom Memory Management in a Data Processing Pipeline"
   ]
  },
  {
   "cell_type": "code",
   "execution_count": 11,
   "id": "5e759bd3-8d51-4da2-b857-56210ec2478d",
   "metadata": {},
   "outputs": [
    {
     "name": "stdout",
     "output_type": "stream",
     "text": [
      "Allocated 10 bytes at 0x555f4ab08790\n",
      "Allocated 10 bytes at 0x555f4ab08790\n",
      "Deallocating 10 bytes at 0x555f4ab08790\n",
      "Deallocated 10 bytes at 0x555f4ab08790\n"
     ]
    }
   ],
   "source": [
    "struct CustomMemoryManager {\n",
    "    allocate: unsafe extern \"C\" fn(size: usize) -> *mut u8,\n",
    "    deallocate: unsafe extern \"C\" fn(ptr: *mut u8, size: usize),\n",
    "}\n",
    "\n",
    "fn process_data_with_custom_memory_manager(data: &[u8], memory_manager: &CustomMemoryManager) {\n",
    "    unsafe {\n",
    "        let buffer_size = data.len() * 2;\n",
    "        let custom_buffer = (memory_manager.allocate)(buffer_size);\n",
    "\n",
    "        println!(\"Allocated {} bytes at {:p}\", buffer_size, custom_buffer);\n",
    "\n",
    "        std::ptr::copy_nonoverlapping(data.as_ptr(), custom_buffer, data.len());\n",
    "\n",
    "        // Additional data processing using the custom buffer would happen here\n",
    "\n",
    "        (memory_manager.deallocate)(custom_buffer, buffer_size);\n",
    "\n",
    "        println!(\"Deallocated {} bytes at {:p}\", buffer_size, custom_buffer);\n",
    "    }\n",
    "}\n",
    "\n",
    "unsafe extern \"C\" fn custom_allocate(size: usize) -> *mut u8 {\n",
    "    let ptr = std::alloc::alloc(std::alloc::Layout::from_size_align(size, 1).unwrap());\n",
    "    println!(\"Allocated {} bytes at {:p}\", size, ptr);\n",
    "    ptr\n",
    "}\n",
    "\n",
    "unsafe extern \"C\" fn custom_deallocate(ptr: *mut u8, size: usize) {\n",
    "    println!(\"Deallocating {} bytes at {:p}\", size, ptr);\n",
    "    std::alloc::dealloc(ptr, std::alloc::Layout::from_size_align(size, 1).unwrap());\n",
    "}\n",
    "\n",
    "let custom_memory_manager = CustomMemoryManager {\n",
    "    allocate: custom_allocate,\n",
    "    deallocate: custom_deallocate,\n",
    "};\n",
    "let input_data = vec![1, 2, 3, 4, 5];\n",
    "process_data_with_custom_memory_manager(&input_data, &custom_memory_manager);"
   ]
  },
  {
   "cell_type": "markdown",
   "id": "3e7b1c14-0e90-4a6b-b3fc-e798d3a183d1",
   "metadata": {},
   "source": [
    "### Best Practices for Using Unsafe Code"
   ]
  },
  {
   "cell_type": "code",
   "execution_count": 12,
   "id": "64dcfb66-b776-49bc-bb74-02b249b34352",
   "metadata": {},
   "outputs": [
    {
     "name": "stdout",
     "output_type": "stream",
     "text": [
      "Safe function: [1, 2, 3, 4, 5, 42]\n",
      "Unsafe function: [10, 2, 3, 4, 5, 42]\n",
      "Main function: [10, 2, 3, 4, 5, 42]\n"
     ]
    }
   ],
   "source": [
    "mod unsafe_module {\n",
    "    // Safe Rust function\n",
    "    pub fn safe_function(data: &mut Vec<i32>) {\n",
    "        // Safe Rust code\n",
    "        data.push(42);\n",
    "        println!(\"Safe function: {:?}\", data);\n",
    "    }\n",
    "\n",
    "    // Unsafe Rust function\n",
    "    pub unsafe fn unsafe_function(data: &mut Vec<i32>) {\n",
    "        // Unsafe code encapsulated within a safe abstraction\n",
    "        let reference = data.as_mut_ptr();\n",
    "        *reference.offset(0) = 10;\n",
    "        println!(\"Unsafe function: {:?}\", data);\n",
    "    }\n",
    "}\n",
    "\n",
    "let mut data = vec![1, 2, 3, 4, 5];\n",
    "\n",
    "// Calling the safe function\n",
    "unsafe_module::safe_function(&mut data);\n",
    "\n",
    "// Calling the unsafe function within a safe context\n",
    "unsafe {\n",
    "    unsafe_module::unsafe_function(&mut data);\n",
    "}\n",
    "\n",
    "// Accessing the modified data after calling the unsafe function\n",
    "println!(\"Main function: {:?}\", data);"
   ]
  },
  {
   "cell_type": "markdown",
   "id": "92622f9e-6a62-4cef-b18f-72aafca0bcfd",
   "metadata": {},
   "source": [
    "### Memory Safety Violations in Unsafe Code"
   ]
  },
  {
   "cell_type": "code",
   "execution_count": 13,
   "id": "6ee5e475-fa3b-4e3e-8f37-fa3dc685abc9",
   "metadata": {},
   "outputs": [
    {
     "name": "stdout",
     "output_type": "stream",
     "text": [
      "Modified data: [10, 2, 3, 4, 5]\n"
     ]
    }
   ],
   "source": [
    "let mut data = vec![1, 2, 3, 4, 5];\n",
    "\n",
    "let reference = data.as_mut_ptr();\n",
    "\n",
    "unsafe {\n",
    "    *reference.offset(0) = 10;\n",
    "}\n",
    "\n",
    "println!(\"Modified data: {:?}\", data);"
   ]
  },
  {
   "cell_type": "code",
   "execution_count": 14,
   "id": "c0726ba2-e1ce-404b-80a3-9ce955e28fb4",
   "metadata": {},
   "outputs": [
    {
     "name": "stdout",
     "output_type": "stream",
     "text": [
      "Modified data: [11, 12, 13, 14, 15]\n"
     ]
    }
   ],
   "source": [
    "let mut data = vec![1, 2, 3, 4, 5];\n",
    "\n",
    "for element in data.iter_mut() {\n",
    "    *element = *element + 10;\n",
    "}\n",
    "\n",
    "println!(\"Modified data: {:?}\", data);"
   ]
  },
  {
   "cell_type": "markdown",
   "id": "ef80ab05-e890-423f-89a4-c2b798cc2d05",
   "metadata": {},
   "source": [
    "### Case Studies Highlighting Real-World Consequences"
   ]
  },
  {
   "cell_type": "markdown",
   "id": "1d97da75-fb00-48e8-bf15-bba90fdd3b20",
   "metadata": {},
   "source": [
    "### Case Study 1: Heartbleed Vulnerability"
   ]
  },
  {
   "cell_type": "code",
   "execution_count": 15,
   "id": "4f098a5e-e997-455c-b3dc-c8f80d4b505d",
   "metadata": {},
   "outputs": [
    {
     "name": "stdout",
     "output_type": "stream",
     "text": [
      "Sending response: password123secret456\n"
     ]
    },
    {
     "data": {
      "text/plain": [
       "()"
      ]
     },
     "execution_count": 15,
     "metadata": {},
     "output_type": "execute_result"
    }
   ],
   "source": [
    "use std::collections::HashMap;\n",
    "\n",
    "struct Server {\n",
    "    user_data: HashMap<String, String>,\n",
    "}\n",
    "\n",
    "impl Server {\n",
    "    fn get_user_data(&self, username: &str) -> Option<&String> {\n",
    "        self.user_data.get(username)\n",
    "    }\n",
    "\n",
    "    unsafe fn unsafe_heartbleed(&self) {\n",
    "        let buffer: Vec<u8> = self\n",
    "            .user_data\n",
    "            .values()\n",
    "            .flat_map(|s| s.as_bytes().to_vec())\n",
    "            .collect();\n",
    "\n",
    "        let mut response = Vec::new();\n",
    "        response.resize(buffer.len(), 0);\n",
    "        response.copy_from_slice(&buffer);\n",
    "\n",
    "        send_response(response);\n",
    "    }\n",
    "}\n",
    "\n",
    "fn send_response(response: Vec<u8>) {\n",
    "\n",
    "    let response_str = String::from_utf8_lossy(&response);\n",
    "\n",
    "    println!(\"Sending response: {}\", response_str);\n",
    "}\n",
    "\n",
    "let server = Server {\n",
    "    user_data: [\n",
    "        (\"Mahmoud\".to_string(), \"password123\".to_string()),\n",
    "        (\"Prime\".to_string(), \"secret456\".to_string()),\n",
    "    ]\n",
    "    .iter()\n",
    "    .cloned()\n",
    "    .collect(),\n",
    "};\n",
    "\n",
    "unsafe {\n",
    "    server.unsafe_heartbleed();\n",
    "}"
   ]
  },
  {
   "cell_type": "markdown",
   "id": "5fa4e6f9-11a8-41ae-a4be-6a376f433934",
   "metadata": {},
   "source": [
    "### Case Study 2: Ariane 5 Flight 501 Failure"
   ]
  },
  {
   "cell_type": "code",
   "execution_count": 16,
   "id": "db9a2238-c26e-4b85-8c3e-245c97115e23",
   "metadata": {},
   "outputs": [
    {
     "name": "stdout",
     "output_type": "stream",
     "text": [
      "Result of safe critical calculation: 2147483647\n",
      "Using result in guidance system: 2147483647\n",
      "Using result in guidance system: 3214442\n",
      "Using result in guidance system: 3214442\n",
      "Using result in guidance system: 3214442\n",
      "Using result in guidance system: 3214442\n",
      "Unsafe Counter Value: 2160341415\n"
     ]
    },
    {
     "data": {
      "text/plain": [
       "()"
      ]
     },
     "execution_count": 16,
     "metadata": {},
     "output_type": "execute_result"
    }
   ],
   "source": [
    "use std::sync::atomic::{AtomicBool, AtomicUsize, Ordering};\n",
    "use std::sync::Arc;\n",
    "use std::thread;\n",
    "\n",
    "struct GuidanceSystem {\n",
    "    safe_mode: AtomicBool,\n",
    "    unsafe_counter: AtomicUsize,\n",
    "}\n",
    "\n",
    "impl GuidanceSystem {\n",
    "    fn safe_critical_calculation(&self, payload_mass: f64) -> i32 {\n",
    "        if self.safe_mode.load(Ordering::SeqCst) {\n",
    "            let result = (32767.0 * 9.81 / payload_mass).round();\n",
    "\n",
    "            if result >= i32::MIN as f64 && result <= i32::MAX as f64 {\n",
    "                result as i32\n",
    "            } else {\n",
    "                if result > 0.0 {\n",
    "                    i32::MAX\n",
    "                } else {\n",
    "                    i32::MIN\n",
    "                }\n",
    "            }\n",
    "        } else {\n",
    "            (32767.0 * 9.81 / payload_mass) as i32\n",
    "        }\n",
    "    }\n",
    "\n",
    "    unsafe fn unsafe_use_result(&self, result: i32) {\n",
    "        self.unsafe_counter\n",
    "            .fetch_add(result as usize, Ordering::Relaxed);\n",
    "\n",
    "        println!(\"Using result in guidance system: {}\", result);\n",
    "    }\n",
    "}\n",
    "\n",
    "fn main() {\n",
    "    let guidance_system = Arc::new(GuidanceSystem {\n",
    "        safe_mode: AtomicBool::new(false),\n",
    "        unsafe_counter: AtomicUsize::new(0),\n",
    "    });\n",
    "\n",
    "    let guidance_system_thread = Arc::clone(&guidance_system);\n",
    "\n",
    "    let handle = thread::spawn(move || {\n",
    "        let payload_mass = 0.0000000001;\n",
    "        let result = guidance_system_thread.safe_critical_calculation(payload_mass);\n",
    "        println!(\"Result of safe critical calculation: {}\", result);\n",
    "\n",
    "        unsafe {\n",
    "            guidance_system_thread.unsafe_use_result(result);\n",
    "        }\n",
    "    });\n",
    "\n",
    "    let handles: Vec<_> = (0..4)\n",
    "        .map(|_| {\n",
    "            let guidance_system_thread = Arc::clone(&guidance_system);\n",
    "            thread::spawn(move || {\n",
    "                let payload_mass = 0.1;\n",
    "                let result = guidance_system_thread.safe_critical_calculation(payload_mass);\n",
    "                unsafe {\n",
    "                    guidance_system_thread.unsafe_use_result(result);\n",
    "                }\n",
    "            })\n",
    "        })\n",
    "        .collect();\n",
    "\n",
    "    handle.join().unwrap();\n",
    "\n",
    "    for handle in handles {\n",
    "        handle.join().unwrap();\n",
    "    }\n",
    "\n",
    "    println!(\n",
    "        \"Unsafe Counter Value: {}\",\n",
    "        guidance_system.unsafe_counter.load(Ordering::SeqCst)\n",
    "    );\n",
    "}\n",
    "\n",
    "main()"
   ]
  },
  {
   "cell_type": "markdown",
   "id": "8bcda711-846f-41c3-83f6-e577e6266f77",
   "metadata": {},
   "source": [
    "### Risks Associated with Common Unsafe Coding Practices"
   ]
  },
  {
   "cell_type": "markdown",
   "id": "d99f6d54-8b73-49d5-9c8d-fb0e0ab49ddd",
   "metadata": {},
   "source": [
    "### Risk 1: Null Pointer Dereferencing"
   ]
  },
  {
   "cell_type": "code",
   "execution_count": 17,
   "id": "e0eaa65f-4395-4e7b-84ec-b71aa4b567ca",
   "metadata": {},
   "outputs": [
    {
     "name": "stdout",
     "output_type": "stream",
     "text": [
      "Dereferenced value: 21\n"
     ]
    },
    {
     "data": {
      "text/plain": [
       "()"
      ]
     },
     "execution_count": 17,
     "metadata": {},
     "output_type": "execute_result"
    }
   ],
   "source": [
    "let null_pointer: *const i32 = std::ptr::null();\n",
    "\n",
    "unsafe {\n",
    "    let value = *null_pointer;\n",
    "    println!(\"Dereferenced value: {}\", value);\n",
    "}"
   ]
  },
  {
   "cell_type": "markdown",
   "id": "a75a054d-d9f3-45ac-be09-26ac6bba1e46",
   "metadata": {},
   "source": [
    "### Risk 2: Buffer Overflows"
   ]
  },
  {
   "cell_type": "code",
   "execution_count": 18,
   "id": "d541375c-aa50-4740-81e8-6658adb05939",
   "metadata": {},
   "outputs": [
    {
     "name": "stdout",
     "output_type": "stream",
     "text": [
      "Value obtained from buffer overflow: 21\n"
     ]
    },
    {
     "data": {
      "text/plain": [
       "()"
      ]
     },
     "execution_count": 18,
     "metadata": {},
     "output_type": "execute_result"
    }
   ],
   "source": [
    "let data: [u8; 5] = [1, 2, 3, 4, 5];\n",
    "\n",
    "unsafe {\n",
    "    let value = *data.get_unchecked(10);\n",
    "    println!(\"Value obtained from buffer overflow: {}\", value);\n",
    "}"
   ]
  },
  {
   "cell_type": "markdown",
   "id": "cdad48a9-28c8-4202-ad0e-771be0cd6f89",
   "metadata": {},
   "source": [
    "### Risk 3: Use-After-Free Errors"
   ]
  },
  {
   "cell_type": "code",
   "execution_count": 19,
   "id": "865263b0-d04a-4405-b879-2ef177e95539",
   "metadata": {},
   "outputs": [
    {
     "name": "stdout",
     "output_type": "stream",
     "text": [
      "Value at raw pointer: 524723331\n"
     ]
    },
    {
     "data": {
      "text/plain": [
       "()"
      ]
     },
     "execution_count": 19,
     "metadata": {},
     "output_type": "execute_result"
    }
   ],
   "source": [
    "let data = Box::new(42);\n",
    "\n",
    "let raw_pointer = Box::into_raw(data);\n",
    "\n",
    "unsafe {\n",
    "    drop(Box::from_raw(raw_pointer));\n",
    "    println!(\"Value at raw pointer: {}\", *raw_pointer);\n",
    "}"
   ]
  },
  {
   "cell_type": "markdown",
   "id": "6ae516b6-36ad-41dc-bad9-cc6dea7526a8",
   "metadata": {},
   "source": [
    "---\n",
    "---"
   ]
  }
 ],
 "metadata": {
  "kernelspec": {
   "display_name": "Rust",
   "language": "rust",
   "name": "rust"
  },
  "language_info": {
   "codemirror_mode": "rust",
   "file_extension": ".rs",
   "mimetype": "text/rust",
   "name": "Rust",
   "pygment_lexer": "rust",
   "version": ""
  }
 },
 "nbformat": 4,
 "nbformat_minor": 5
}
